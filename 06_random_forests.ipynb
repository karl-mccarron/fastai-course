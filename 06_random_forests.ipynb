{
 "cells": [
  {
   "cell_type": "code",
   "execution_count": 1,
   "metadata": {},
   "outputs": [
    {
     "data": {
      "text/plain": [
       "[1]"
      ]
     },
     "execution_count": 1,
     "metadata": {},
     "output_type": "execute_result"
    }
   ],
   "source": [
    "#hide\n",
    "# Import time!\n",
    "from loguru import logger\n",
    "from rich.logging import RichHandler\n",
    "\n",
    "# Logging setup\n",
    "logger.configure(\n",
    "    handlers=[\n",
    "        {\n",
    "            \"sink\": RichHandler(\n",
    "                log_time_format=\"%Y-%m-%d %X\",\n",
    "                rich_tracebacks=True,\n",
    "                show_path=False,\n",
    "                tracebacks_width=200,\n",
    "            ),\n",
    "            \"format\": \"{message}\",\n",
    "            \"level\": \"DEBUG\",\n",
    "        }\n",
    "    ]\n",
    ")"
   ]
  },
  {
   "cell_type": "code",
   "execution_count": 2,
   "metadata": {},
   "outputs": [],
   "source": [
    "from fastai.imports import *\n",
    "import pandas as pd\n",
    "import numpy as np\n",
    "import matplotlib.pyplot as plt\n",
    "np.set_printoptions(linewidth=130)"
   ]
  },
  {
   "cell_type": "code",
   "execution_count": 3,
   "metadata": {},
   "outputs": [],
   "source": [
    "from pathlib import Path\n",
    "titanic_data_path = Path('./titanic/')"
   ]
  },
  {
   "cell_type": "code",
   "execution_count": 4,
   "metadata": {},
   "outputs": [],
   "source": [
    "train_df = pd.read_csv(titanic_data_path / 'train.csv')\n",
    "test_df = pd.read_csv(titanic_data_path / 'test.csv')"
   ]
  },
  {
   "cell_type": "code",
   "execution_count": 5,
   "metadata": {},
   "outputs": [],
   "source": [
    "training_modes = train_df.mode().iloc[0]\n",
    "\n",
    "def process_titanic_data(df):\n",
    "    df['Fare'] = df.Fare.fillna(0)\n",
    "    df.fillna(training_modes, inplace=True)\n",
    "    df['LogFare'] = np.log1p(df['Fare'])\n",
    "    df['Embarked'] = pd.Categorical(df.Embarked)\n",
    "    df['Sex'] = pd.Categorical(df.Sex)\n",
    "\n",
    "process_titanic_data(train_df)\n",
    "process_titanic_data(test_df)"
   ]
  },
  {
   "cell_type": "code",
   "execution_count": 6,
   "metadata": {},
   "outputs": [
    {
     "data": {
      "text/html": [
       "<div>\n",
       "<style scoped>\n",
       "    .dataframe tbody tr th:only-of-type {\n",
       "        vertical-align: middle;\n",
       "    }\n",
       "\n",
       "    .dataframe tbody tr th {\n",
       "        vertical-align: top;\n",
       "    }\n",
       "\n",
       "    .dataframe thead th {\n",
       "        text-align: right;\n",
       "    }\n",
       "</style>\n",
       "<table border=\"1\" class=\"dataframe\">\n",
       "  <thead>\n",
       "    <tr style=\"text-align: right;\">\n",
       "      <th></th>\n",
       "      <th>PassengerId</th>\n",
       "      <th>Survived</th>\n",
       "      <th>Pclass</th>\n",
       "      <th>Name</th>\n",
       "      <th>Sex</th>\n",
       "      <th>Age</th>\n",
       "      <th>SibSp</th>\n",
       "      <th>Parch</th>\n",
       "      <th>Ticket</th>\n",
       "      <th>Fare</th>\n",
       "      <th>Cabin</th>\n",
       "      <th>Embarked</th>\n",
       "      <th>LogFare</th>\n",
       "    </tr>\n",
       "  </thead>\n",
       "  <tbody>\n",
       "    <tr>\n",
       "      <th>0</th>\n",
       "      <td>1</td>\n",
       "      <td>0</td>\n",
       "      <td>3</td>\n",
       "      <td>Braund, Mr. Owen Harris</td>\n",
       "      <td>male</td>\n",
       "      <td>22.0</td>\n",
       "      <td>1</td>\n",
       "      <td>0</td>\n",
       "      <td>A/5 21171</td>\n",
       "      <td>7.2500</td>\n",
       "      <td>B96 B98</td>\n",
       "      <td>S</td>\n",
       "      <td>2.110213</td>\n",
       "    </tr>\n",
       "    <tr>\n",
       "      <th>1</th>\n",
       "      <td>2</td>\n",
       "      <td>1</td>\n",
       "      <td>1</td>\n",
       "      <td>Cumings, Mrs. John Bradley (Florence Briggs Thayer)</td>\n",
       "      <td>female</td>\n",
       "      <td>38.0</td>\n",
       "      <td>1</td>\n",
       "      <td>0</td>\n",
       "      <td>PC 17599</td>\n",
       "      <td>71.2833</td>\n",
       "      <td>C85</td>\n",
       "      <td>C</td>\n",
       "      <td>4.280593</td>\n",
       "    </tr>\n",
       "    <tr>\n",
       "      <th>2</th>\n",
       "      <td>3</td>\n",
       "      <td>1</td>\n",
       "      <td>3</td>\n",
       "      <td>Heikkinen, Miss. Laina</td>\n",
       "      <td>female</td>\n",
       "      <td>26.0</td>\n",
       "      <td>0</td>\n",
       "      <td>0</td>\n",
       "      <td>STON/O2. 3101282</td>\n",
       "      <td>7.9250</td>\n",
       "      <td>B96 B98</td>\n",
       "      <td>S</td>\n",
       "      <td>2.188856</td>\n",
       "    </tr>\n",
       "    <tr>\n",
       "      <th>3</th>\n",
       "      <td>4</td>\n",
       "      <td>1</td>\n",
       "      <td>1</td>\n",
       "      <td>Futrelle, Mrs. Jacques Heath (Lily May Peel)</td>\n",
       "      <td>female</td>\n",
       "      <td>35.0</td>\n",
       "      <td>1</td>\n",
       "      <td>0</td>\n",
       "      <td>113803</td>\n",
       "      <td>53.1000</td>\n",
       "      <td>C123</td>\n",
       "      <td>S</td>\n",
       "      <td>3.990834</td>\n",
       "    </tr>\n",
       "    <tr>\n",
       "      <th>4</th>\n",
       "      <td>5</td>\n",
       "      <td>0</td>\n",
       "      <td>3</td>\n",
       "      <td>Allen, Mr. William Henry</td>\n",
       "      <td>male</td>\n",
       "      <td>35.0</td>\n",
       "      <td>0</td>\n",
       "      <td>0</td>\n",
       "      <td>373450</td>\n",
       "      <td>8.0500</td>\n",
       "      <td>B96 B98</td>\n",
       "      <td>S</td>\n",
       "      <td>2.202765</td>\n",
       "    </tr>\n",
       "    <tr>\n",
       "      <th>...</th>\n",
       "      <td>...</td>\n",
       "      <td>...</td>\n",
       "      <td>...</td>\n",
       "      <td>...</td>\n",
       "      <td>...</td>\n",
       "      <td>...</td>\n",
       "      <td>...</td>\n",
       "      <td>...</td>\n",
       "      <td>...</td>\n",
       "      <td>...</td>\n",
       "      <td>...</td>\n",
       "      <td>...</td>\n",
       "      <td>...</td>\n",
       "    </tr>\n",
       "    <tr>\n",
       "      <th>886</th>\n",
       "      <td>887</td>\n",
       "      <td>0</td>\n",
       "      <td>2</td>\n",
       "      <td>Montvila, Rev. Juozas</td>\n",
       "      <td>male</td>\n",
       "      <td>27.0</td>\n",
       "      <td>0</td>\n",
       "      <td>0</td>\n",
       "      <td>211536</td>\n",
       "      <td>13.0000</td>\n",
       "      <td>B96 B98</td>\n",
       "      <td>S</td>\n",
       "      <td>2.639057</td>\n",
       "    </tr>\n",
       "    <tr>\n",
       "      <th>887</th>\n",
       "      <td>888</td>\n",
       "      <td>1</td>\n",
       "      <td>1</td>\n",
       "      <td>Graham, Miss. Margaret Edith</td>\n",
       "      <td>female</td>\n",
       "      <td>19.0</td>\n",
       "      <td>0</td>\n",
       "      <td>0</td>\n",
       "      <td>112053</td>\n",
       "      <td>30.0000</td>\n",
       "      <td>B42</td>\n",
       "      <td>S</td>\n",
       "      <td>3.433987</td>\n",
       "    </tr>\n",
       "    <tr>\n",
       "      <th>888</th>\n",
       "      <td>889</td>\n",
       "      <td>0</td>\n",
       "      <td>3</td>\n",
       "      <td>Johnston, Miss. Catherine Helen \"Carrie\"</td>\n",
       "      <td>female</td>\n",
       "      <td>24.0</td>\n",
       "      <td>1</td>\n",
       "      <td>2</td>\n",
       "      <td>W./C. 6607</td>\n",
       "      <td>23.4500</td>\n",
       "      <td>B96 B98</td>\n",
       "      <td>S</td>\n",
       "      <td>3.196630</td>\n",
       "    </tr>\n",
       "    <tr>\n",
       "      <th>889</th>\n",
       "      <td>890</td>\n",
       "      <td>1</td>\n",
       "      <td>1</td>\n",
       "      <td>Behr, Mr. Karl Howell</td>\n",
       "      <td>male</td>\n",
       "      <td>26.0</td>\n",
       "      <td>0</td>\n",
       "      <td>0</td>\n",
       "      <td>111369</td>\n",
       "      <td>30.0000</td>\n",
       "      <td>C148</td>\n",
       "      <td>C</td>\n",
       "      <td>3.433987</td>\n",
       "    </tr>\n",
       "    <tr>\n",
       "      <th>890</th>\n",
       "      <td>891</td>\n",
       "      <td>0</td>\n",
       "      <td>3</td>\n",
       "      <td>Dooley, Mr. Patrick</td>\n",
       "      <td>male</td>\n",
       "      <td>32.0</td>\n",
       "      <td>0</td>\n",
       "      <td>0</td>\n",
       "      <td>370376</td>\n",
       "      <td>7.7500</td>\n",
       "      <td>B96 B98</td>\n",
       "      <td>Q</td>\n",
       "      <td>2.169054</td>\n",
       "    </tr>\n",
       "  </tbody>\n",
       "</table>\n",
       "<p>891 rows × 13 columns</p>\n",
       "</div>"
      ],
      "text/plain": [
       "     PassengerId  Survived  Pclass  \\\n",
       "0              1         0       3   \n",
       "1              2         1       1   \n",
       "2              3         1       3   \n",
       "3              4         1       1   \n",
       "4              5         0       3   \n",
       "..           ...       ...     ...   \n",
       "886          887         0       2   \n",
       "887          888         1       1   \n",
       "888          889         0       3   \n",
       "889          890         1       1   \n",
       "890          891         0       3   \n",
       "\n",
       "                                                    Name     Sex   Age  SibSp  \\\n",
       "0                                Braund, Mr. Owen Harris    male  22.0      1   \n",
       "1    Cumings, Mrs. John Bradley (Florence Briggs Thayer)  female  38.0      1   \n",
       "2                                 Heikkinen, Miss. Laina  female  26.0      0   \n",
       "3           Futrelle, Mrs. Jacques Heath (Lily May Peel)  female  35.0      1   \n",
       "4                               Allen, Mr. William Henry    male  35.0      0   \n",
       "..                                                   ...     ...   ...    ...   \n",
       "886                                Montvila, Rev. Juozas    male  27.0      0   \n",
       "887                         Graham, Miss. Margaret Edith  female  19.0      0   \n",
       "888             Johnston, Miss. Catherine Helen \"Carrie\"  female  24.0      1   \n",
       "889                                Behr, Mr. Karl Howell    male  26.0      0   \n",
       "890                                  Dooley, Mr. Patrick    male  32.0      0   \n",
       "\n",
       "     Parch            Ticket     Fare    Cabin Embarked   LogFare  \n",
       "0        0         A/5 21171   7.2500  B96 B98        S  2.110213  \n",
       "1        0          PC 17599  71.2833      C85        C  4.280593  \n",
       "2        0  STON/O2. 3101282   7.9250  B96 B98        S  2.188856  \n",
       "3        0            113803  53.1000     C123        S  3.990834  \n",
       "4        0            373450   8.0500  B96 B98        S  2.202765  \n",
       "..     ...               ...      ...      ...      ...       ...  \n",
       "886      0            211536  13.0000  B96 B98        S  2.639057  \n",
       "887      0            112053  30.0000      B42        S  3.433987  \n",
       "888      2        W./C. 6607  23.4500  B96 B98        S  3.196630  \n",
       "889      0            111369  30.0000     C148        C  3.433987  \n",
       "890      0            370376   7.7500  B96 B98        Q  2.169054  \n",
       "\n",
       "[891 rows x 13 columns]"
      ]
     },
     "execution_count": 6,
     "metadata": {},
     "output_type": "execute_result"
    }
   ],
   "source": [
    "train_df"
   ]
  },
  {
   "cell_type": "code",
   "execution_count": 7,
   "metadata": {},
   "outputs": [],
   "source": [
    "categorial_vars = ['Sex', 'Embarked']\n",
    "continuous_vars = ['Age', 'SibSp', 'Parch', 'LogFare', 'Pclass']\n",
    "dependent_var = 'Survived'"
   ]
  },
  {
   "cell_type": "code",
   "execution_count": 8,
   "metadata": {},
   "outputs": [
    {
     "data": {
      "text/plain": [
       "0      male\n",
       "1    female\n",
       "2    female\n",
       "3    female\n",
       "4      male\n",
       "Name: Sex, dtype: category\n",
       "Categories (2, object): ['female', 'male']"
      ]
     },
     "execution_count": 8,
     "metadata": {},
     "output_type": "execute_result"
    }
   ],
   "source": [
    "train_df.Sex.head()"
   ]
  },
  {
   "cell_type": "code",
   "execution_count": 9,
   "metadata": {},
   "outputs": [
    {
     "data": {
      "text/plain": [
       "0    1\n",
       "1    0\n",
       "2    0\n",
       "3    0\n",
       "4    1\n",
       "dtype: int8"
      ]
     },
     "execution_count": 9,
     "metadata": {},
     "output_type": "execute_result"
    }
   ],
   "source": [
    "train_df.Sex.cat.codes.head()"
   ]
  },
  {
   "cell_type": "markdown",
   "metadata": {},
   "source": [
    "# Forest -> Trees -> Binary Splits"
   ]
  },
  {
   "cell_type": "code",
   "execution_count": 10,
   "metadata": {},
   "outputs": [],
   "source": [
    "import seaborn as sns"
   ]
  },
  {
   "cell_type": "code",
   "execution_count": 11,
   "metadata": {},
   "outputs": [
    {
     "data": {
      "text/plain": [
       "[Text(0.5, 1.0, 'Histogram')]"
      ]
     },
     "execution_count": 11,
     "metadata": {},
     "output_type": "execute_result"
    },
    {
     "data": {
      "image/png": "[encoded data removed]",
      "text/plain": [
       "<Figure size 1100x500 with 2 Axes>"
      ]
     },
     "metadata": {},
     "output_type": "display_data"
    }
   ],
   "source": [
    "figure, axes = plt.subplots(1, 2, figsize=(11, 5))\n",
    "sns.barplot(data=train_df, y=dependent_var, x='Sex', ax=axes[0]).set(title='Survival Rate')\n",
    "sns.countplot(data=train_df, x='Sex', ax=axes[1]).set(title='Histogram')"
   ]
  },
  {
   "cell_type": "markdown",
   "metadata": {},
   "source": [
    "Based on the above, honestly how bad would the result be if we just guessed based on sex if they survived or not? I mean... probably not terrible!"
   ]
  },
  {
   "cell_type": "code",
   "execution_count": 12,
   "metadata": {},
   "outputs": [],
   "source": [
    "from sklearn.model_selection import train_test_split\n",
    "\n",
    "np.random.seed(42)\n",
    "_train_df, _val_df = train_test_split(train_df, test_size=0.25)\n",
    "_train_df[categorial_vars] = _train_df[categorial_vars].apply(lambda x: x.cat.codes)\n",
    "_val_df[categorial_vars] = _val_df[categorial_vars].apply(lambda x: x.cat.codes)"
   ]
  },
  {
   "cell_type": "code",
   "execution_count": 13,
   "metadata": {},
   "outputs": [],
   "source": [
    "def get_vars(df):\n",
    "    xs = df[categorial_vars+continuous_vars].copy()\n",
    "    return (xs, df[dependent_var] if dependent_var in df else None)\n",
    "\n",
    "_train_xs, _train_y = get_vars(_train_df)\n",
    "_val_xs, _val_y = get_vars(_val_df)"
   ]
  },
  {
   "cell_type": "code",
   "execution_count": 14,
   "metadata": {},
   "outputs": [],
   "source": [
    "# Now, predict they survived if they were female\n",
    "predictions = _val_xs.Sex == 0"
   ]
  },
  {
   "cell_type": "code",
   "execution_count": 15,
   "metadata": {},
   "outputs": [
    {
     "data": {
      "text/plain": [
       "0.21524663677130046"
      ]
     },
     "execution_count": 15,
     "metadata": {},
     "output_type": "execute_result"
    }
   ],
   "source": [
    "from sklearn.metrics import mean_absolute_error\n",
    "mean_absolute_error(_val_y, predictions)"
   ]
  },
  {
   "cell_type": "markdown",
   "metadata": {},
   "source": [
    "0.215 error isn't that bad at all for something so basic!\n",
    "\n",
    "Now, let's try considering fare as well"
   ]
  },
  {
   "cell_type": "code",
   "execution_count": 16,
   "metadata": {},
   "outputs": [
    {
     "data": {
      "text/plain": [
       "<Axes: xlabel='LogFare', ylabel='Density'>"
      ]
     },
     "execution_count": 16,
     "metadata": {},
     "output_type": "execute_result"
    },
    {
     "data": {
      "image/png": "[encoded data removed]",
      "text/plain": [
       "<Figure size 1100x500 with 2 Axes>"
      ]
     },
     "metadata": {},
     "output_type": "display_data"
    }
   ],
   "source": [
    "_train_df_fare = _train_df[_train_df.LogFare > 0]\n",
    "figure, axes = plt.subplots(1, 2, figsize=(11, 5))\n",
    "sns.boxenplot(data=_train_df_fare, x=dependent_var, y='LogFare', ax=axes[0])\n",
    "sns.kdeplot(data=_train_df_fare, x='LogFare', ax=axes[1])"
   ]
  },
  {
   "cell_type": "markdown",
   "metadata": {},
   "source": [
    "Based on the above, there's definitely a difference between those that survived and those that didn't.\n",
    "\n",
    "So, what if we split on ~2.7? That might be a reasonable prediction for when someone might be more likely to survive."
   ]
  },
  {
   "cell_type": "code",
   "execution_count": 17,
   "metadata": {},
   "outputs": [
    {
     "data": {
      "text/plain": [
       "0.336322869955157"
      ]
     },
     "execution_count": 17,
     "metadata": {},
     "output_type": "execute_result"
    }
   ],
   "source": [
    "predictions = _val_xs.LogFare > 2.7\n",
    "mean_absolute_error(_val_y, predictions)"
   ]
  },
  {
   "cell_type": "markdown",
   "metadata": {},
   "source": [
    "So, based on this, it would be good to create something a bit more interactive to see what the score is to find the best split"
   ]
  },
  {
   "cell_type": "code",
   "execution_count": 18,
   "metadata": {},
   "outputs": [],
   "source": [
    "def _side_score(side, y):\n",
    "    total = side.sum()\n",
    "    return (\n",
    "        0 if total <= 1\n",
    "        else y[side].std() * total\n",
    "    )"
   ]
  },
  {
   "cell_type": "code",
   "execution_count": 19,
   "metadata": {},
   "outputs": [],
   "source": [
    "def score(column, y, split_on):\n",
    "    lhs = column <= split_on\n",
    "    return (_side_score(lhs, y) + _side_score(~lhs, y))/len(y)"
   ]
  },
  {
   "cell_type": "code",
   "execution_count": 20,
   "metadata": {},
   "outputs": [
    {
     "data": {
      "text/plain": [
       "0.40787530982063946"
      ]
     },
     "execution_count": 20,
     "metadata": {},
     "output_type": "execute_result"
    }
   ],
   "source": [
    "score(_train_xs['Sex'], _train_y, 0.5)"
   ]
  },
  {
   "cell_type": "code",
   "execution_count": 21,
   "metadata": {},
   "outputs": [
    {
     "data": {
      "text/plain": [
       "0.47180873952099694"
      ]
     },
     "execution_count": 21,
     "metadata": {},
     "output_type": "execute_result"
    }
   ],
   "source": [
    "score(_train_xs['LogFare'], _train_y, 2.7)"
   ]
  },
  {
   "cell_type": "markdown",
   "metadata": {},
   "source": [
    "Now that we have this, we can create an interactive tool!"
   ]
  },
  {
   "cell_type": "code",
   "execution_count": 22,
   "metadata": {},
   "outputs": [
    {
     "data": {
      "application/vnd.jupyter.widget-view+json": {
       "model_id": "ac79744d9b384cfb87235fce34991034",
       "version_major": 2,
       "version_minor": 0
      },
      "text/plain": [
       "interactive(children=(Dropdown(description='nm', options=('Age', 'SibSp', 'Parch', 'LogFare', 'Pclass'), value…"
      ]
     },
     "metadata": {},
     "output_type": "display_data"
    },
    {
     "data": {
      "text/plain": [
       "<function __main__.iscore(nm, split_on)>"
      ]
     },
     "execution_count": 22,
     "metadata": {},
     "output_type": "execute_result"
    }
   ],
   "source": [
    "def iscore(nm, split_on):\n",
    "    column = _train_xs[nm]\n",
    "    return score(column, _train_y, split_on)\n",
    "\n",
    "from ipywidgets import interact\n",
    "interact(nm=continuous_vars, split_on=15.5)(iscore)"
   ]
  },
  {
   "cell_type": "code",
   "execution_count": 23,
   "metadata": {},
   "outputs": [
    {
     "data": {
      "application/vnd.jupyter.widget-view+json": {
       "model_id": "b4796437d0af426894ce4277edaa047a",
       "version_major": 2,
       "version_minor": 0
      },
      "text/plain": [
       "interactive(children=(Dropdown(description='nm', options=('Sex', 'Embarked'), value='Sex'), IntSlider(value=0,…"
      ]
     },
     "metadata": {},
     "output_type": "display_data"
    },
    {
     "data": {
      "text/plain": [
       "<function __main__.iscore(nm, split_on)>"
      ]
     },
     "execution_count": 23,
     "metadata": {},
     "output_type": "execute_result"
    }
   ],
   "source": [
    "interact(nm=categorial_vars, split_on=0)(iscore)"
   ]
  },
  {
   "cell_type": "markdown",
   "metadata": {},
   "source": [
    "We can try to do the same process automatically by, e.g., just trying to do the split for all values for age"
   ]
  },
  {
   "cell_type": "code",
   "execution_count": 24,
   "metadata": {},
   "outputs": [
    {
     "data": {
      "text/plain": [
       "array([ 0.42,  0.67,  0.75,  0.83,  0.92,  1.  ,  2.  ,  3.  ,  4.  ,  5.  ,  6.  ,  7.  ,  8.  ,  9.  , 10.  , 11.  , 12.  ,\n",
       "       13.  , 14.  , 14.5 , 15.  , 16.  , 17.  , 18.  , 19.  , 20.  , 21.  , 22.  , 23.  , 24.  , 24.5 , 25.  , 26.  , 27.  ,\n",
       "       28.  , 28.5 , 29.  , 30.  , 31.  , 32.  , 32.5 , 33.  , 34.  , 34.5 , 35.  , 36.  , 36.5 , 37.  , 38.  , 39.  , 40.  ,\n",
       "       40.5 , 41.  , 42.  , 43.  , 44.  , 45.  , 45.5 , 46.  , 47.  , 48.  , 49.  , 50.  , 51.  , 52.  , 53.  , 54.  , 55.  ,\n",
       "       55.5 , 56.  , 57.  , 58.  , 59.  , 60.  , 61.  , 62.  , 64.  , 65.  , 70.  , 70.5 , 74.  , 80.  ])"
      ]
     },
     "execution_count": 24,
     "metadata": {},
     "output_type": "execute_result"
    }
   ],
   "source": [
    "nm = 'Age'\n",
    "age_column = _train_xs[nm]\n",
    "unique_ages = age_column.unique()\n",
    "unique_ages.sort()\n",
    "unique_ages"
   ]
  },
  {
   "cell_type": "code",
   "execution_count": 25,
   "metadata": {},
   "outputs": [
    {
     "data": {
      "text/plain": [
       "6.0"
      ]
     },
     "execution_count": 25,
     "metadata": {},
     "output_type": "execute_result"
    }
   ],
   "source": [
    "age_scores = np.array([score(age_column, _train_y, _age) for _age in unique_ages if not np.isnan(_age)])\n",
    "unique_ages[age_scores.argmin()]"
   ]
  },
  {
   "cell_type": "code",
   "execution_count": 26,
   "metadata": {},
   "outputs": [
    {
     "data": {
      "text/plain": [
       "(6.0, 0.48098442191737467)"
      ]
     },
     "execution_count": 26,
     "metadata": {},
     "output_type": "execute_result"
    }
   ],
   "source": [
    "def best_column_split(df, nm):\n",
    "    column, y = df[nm], df[dependent_var]\n",
    "    unique_vals = column.dropna().unique()\n",
    "    scores = np.array([score(column, y, val) for val in unique_vals if not np.isnan(val)])\n",
    "    min_idx = scores.argmin()\n",
    "    return unique_vals[min_idx], scores[min_idx]\n",
    "\n",
    "best_column_split(train_df, 'Age')"
   ]
  },
  {
   "cell_type": "code",
   "execution_count": 27,
   "metadata": {},
   "outputs": [
    {
     "data": {
      "text/plain": [
       "{'Sex': (0, 0.40787530982063946),\n",
       " 'Embarked': (0, 0.47883342573147836),\n",
       " 'Age': (6.0, 0.478316717508991),\n",
       " 'SibSp': (4, 0.4783740258817434),\n",
       " 'Parch': (0, 0.4805296527841601),\n",
       " 'LogFare': (2.4390808375825834, 0.4620823937736597),\n",
       " 'Pclass': (2, 0.46048261885806596)}"
      ]
     },
     "execution_count": 27,
     "metadata": {},
     "output_type": "execute_result"
    }
   ],
   "source": [
    "columns = [*categorial_vars, *continuous_vars]\n",
    "{column: best_column_split(_train_df, column) for column in columns}"
   ]
  },
  {
   "cell_type": "markdown",
   "metadata": {},
   "source": [
    "This is basically the OneR rule where we use the best single rule to separate our data into 2 groups whose values differ as little as possible intra-group, but as much as possible inter-group.\n",
    "\n",
    "Great baseline!\n",
    "\n",
    "Now, we should consider \"TwoR\": basically do the same thing again within each group, ie. find the best single rule which splits males (and again for females), and use those to create 2 groups.\n",
    "\n",
    "Time to find out what the best split here would be!"
   ]
  },
  {
   "cell_type": "code",
   "execution_count": 28,
   "metadata": {},
   "outputs": [],
   "source": [
    "columns.remove('Sex')\n",
    "is_male = _train_df.Sex == 1\n",
    "males, females = _train_df[is_male], _train_df[~is_male]"
   ]
  },
  {
   "cell_type": "markdown",
   "metadata": {},
   "source": [
    "Let's find out the best binary split for males..."
   ]
  },
  {
   "cell_type": "code",
   "execution_count": 29,
   "metadata": {},
   "outputs": [
    {
     "data": {
      "text/plain": [
       "{'Embarked': (0, 0.3875581870410906),\n",
       " 'Age': (6.0, 0.3739828371010595),\n",
       " 'SibSp': (4, 0.3875864227586273),\n",
       " 'Parch': (0, 0.3874704821461959),\n",
       " 'LogFare': (2.803360380906535, 0.3804856231758151),\n",
       " 'Pclass': (1, 0.38155442004360934)}"
      ]
     },
     "execution_count": 29,
     "metadata": {},
     "output_type": "execute_result"
    }
   ],
   "source": [
    "{val: best_column_split(males, val) for val in columns}"
   ]
  },
  {
   "cell_type": "markdown",
   "metadata": {},
   "source": [
    "And for females..."
   ]
  },
  {
   "cell_type": "code",
   "execution_count": 30,
   "metadata": {},
   "outputs": [
    {
     "data": {
      "text/plain": [
       "{'Embarked': (0, 0.4295252982857327),\n",
       " 'Age': (50.0, 0.4225927658431649),\n",
       " 'SibSp': (4, 0.42319212059713535),\n",
       " 'Parch': (3, 0.4193314500446158),\n",
       " 'LogFare': (4.256321678298823, 0.41350598332911376),\n",
       " 'Pclass': (2, 0.3335388911567601)}"
      ]
     },
     "execution_count": 30,
     "metadata": {},
     "output_type": "execute_result"
    }
   ],
   "source": [
    "{val: best_column_split(females, val) for val in columns}"
   ]
  },
  {
   "cell_type": "markdown",
   "metadata": {},
   "source": [
    "So, for males, the best predictor is `Age <= 6`, and for females, `Pclass <= 2`.\n",
    "\n",
    "This means we now have a decision tree!\n",
    "\n",
    "Let's lean on `sklearn` to automate creating a `DecisionTreeClassifier`..."
   ]
  },
  {
   "cell_type": "code",
   "execution_count": 31,
   "metadata": {},
   "outputs": [],
   "source": [
    "from sklearn.tree import DecisionTreeClassifier, export_graphviz\n",
    "\n",
    "m = DecisionTreeClassifier(max_leaf_nodes=4).fit(_train_xs, _train_y)"
   ]
  },
  {
   "cell_type": "markdown",
   "metadata": {},
   "source": [
    "Let's draw the outputted tree..."
   ]
  },
  {
   "cell_type": "code",
   "execution_count": 32,
   "metadata": {},
   "outputs": [],
   "source": [
    "import graphviz\n",
    "\n",
    "def draw_tree(t, df, size=10, ratio=0.6, precision=2, **kwargs):\n",
    "    s = export_graphviz(\n",
    "        t,\n",
    "        out_file=None,\n",
    "        feature_names=df.columns,\n",
    "        filled=True,\n",
    "        rounded=True,\n",
    "        special_characters=True,\n",
    "        rotate=False,\n",
    "        precision=precision,\n",
    "        **kwargs\n",
    "    )\n",
    "\n",
    "    return graphviz.Source(re.sub('Tree {', f'Tree {{ size={size}; ratio={ratio}', s))"
   ]
  },
  {
   "cell_type": "code",
   "execution_count": 33,
   "metadata": {},
   "outputs": [
    {
     "data": {
      "image/svg+xml": [
       "<?xml version=\"1.0\" encoding=\"UTF-8\" standalone=\"no\"?>\n",
       "<!DOCTYPE svg PUBLIC \"-//W3C//DTD SVG 1.1//EN\"\n",
       " \"http://www.w3.org/Graphics/SVG/1.1/DTD/svg11.dtd\">\n",
       "<!-- Generated by graphviz version 8.1.0 (20230707.0739)\n",
       " -->\n",
       "<!-- Title: Tree Pages: 1 -->\n",
       "<svg width=\"504pt\" height=\"305pt\"\n",
       " viewBox=\"0.00 0.00 503.75 305.00\" xmlns=\"http://www.w3.org/2000/svg\" xmlns:xlink=\"http://www.w3.org/1999/xlink\">\n",
       "<g id=\"graph0\" class=\"graph\" transform=\"scale(1 1) rotate(0) translate(4 301)\">\n",
       "<title>Tree</title>\n",
       "<polygon fill=\"white\" stroke=\"none\" points=\"-4,4 -4,-301 499.75,-301 499.75,4 -4,4\"/>\n",
       "<!-- 0 -->\n",
       "<g id=\"node1\" class=\"node\">\n",
       "<title>0</title>\n",
       "<path fill=\"#f5ceb2\" stroke=\"black\" d=\"M295.5,-292C295.5,-292 195.5,-292 195.5,-292 189.5,-292 183.5,-286 183.5,-280 183.5,-280 183.5,-236 183.5,-236 183.5,-230 189.5,-224 195.5,-224 195.5,-224 295.5,-224 295.5,-224 301.5,-224 307.5,-230 307.5,-236 307.5,-236 307.5,-280 307.5,-280 307.5,-286 301.5,-292 295.5,-292\"/>\n",
       "<text text-anchor=\"start\" x=\"217\" y=\"-274.7\" font-family=\"Helvetica,sans-Serif\" font-size=\"14.00\">Sex ≤ 0.5</text>\n",
       "<text text-anchor=\"start\" x=\"214\" y=\"-259.7\" font-family=\"Helvetica,sans-Serif\" font-size=\"14.00\">gini = 0.47</text>\n",
       "<text text-anchor=\"start\" x=\"200.88\" y=\"-244.7\" font-family=\"Helvetica,sans-Serif\" font-size=\"14.00\">samples = 668</text>\n",
       "<text text-anchor=\"start\" x=\"191.5\" y=\"-229.7\" font-family=\"Helvetica,sans-Serif\" font-size=\"14.00\">value = [415, 253]</text>\n",
       "</g>\n",
       "<!-- 1 -->\n",
       "<g id=\"node2\" class=\"node\">\n",
       "<title>1</title>\n",
       "<path fill=\"#7ebfee\" stroke=\"black\" d=\"M224.75,-174C224.75,-174 132.25,-174 132.25,-174 126.25,-174 120.25,-168 120.25,-162 120.25,-162 120.25,-118 120.25,-118 120.25,-112 126.25,-106 132.25,-106 132.25,-106 224.75,-106 224.75,-106 230.75,-106 236.75,-112 236.75,-118 236.75,-118 236.75,-162 236.75,-162 236.75,-168 230.75,-174 224.75,-174\"/>\n",
       "<text text-anchor=\"start\" x=\"141.75\" y=\"-156.7\" font-family=\"Helvetica,sans-Serif\" font-size=\"14.00\">Pclass ≤ 2.5</text>\n",
       "<text text-anchor=\"start\" x=\"147\" y=\"-141.7\" font-family=\"Helvetica,sans-Serif\" font-size=\"14.00\">gini = 0.38</text>\n",
       "<text text-anchor=\"start\" x=\"133.88\" y=\"-126.7\" font-family=\"Helvetica,sans-Serif\" font-size=\"14.00\">samples = 229</text>\n",
       "<text text-anchor=\"start\" x=\"128.25\" y=\"-111.7\" font-family=\"Helvetica,sans-Serif\" font-size=\"14.00\">value = [59, 170]</text>\n",
       "</g>\n",
       "<!-- 0&#45;&gt;1 -->\n",
       "<g id=\"edge1\" class=\"edge\">\n",
       "<title>0&#45;&gt;1</title>\n",
       "<path fill=\"none\" stroke=\"black\" d=\"M226.3,-223.76C219.08,-211.26 210.77,-196.87 203.13,-183.64\"/>\n",
       "<polygon fill=\"black\" stroke=\"black\" points=\"205.73,-182.15 197.7,-175.25 199.67,-185.66 205.73,-182.15\"/>\n",
       "<text text-anchor=\"middle\" x=\"191.24\" y=\"-192.6\" font-family=\"Helvetica,sans-Serif\" font-size=\"14.00\">True</text>\n",
       "</g>\n",
       "<!-- 2 -->\n",
       "<g id=\"node5\" class=\"node\">\n",
       "<title>2</title>\n",
       "<path fill=\"#eb9e67\" stroke=\"black\" d=\"M359.75,-174C359.75,-174 267.25,-174 267.25,-174 261.25,-174 255.25,-168 255.25,-162 255.25,-162 255.25,-118 255.25,-118 255.25,-112 261.25,-106 267.25,-106 267.25,-106 359.75,-106 359.75,-106 365.75,-106 371.75,-112 371.75,-118 371.75,-118 371.75,-162 371.75,-162 371.75,-168 365.75,-174 359.75,-174\"/>\n",
       "<text text-anchor=\"start\" x=\"284.62\" y=\"-156.7\" font-family=\"Helvetica,sans-Serif\" font-size=\"14.00\">Age ≤ 6.5</text>\n",
       "<text text-anchor=\"start\" x=\"282\" y=\"-141.7\" font-family=\"Helvetica,sans-Serif\" font-size=\"14.00\">gini = 0.31</text>\n",
       "<text text-anchor=\"start\" x=\"268.88\" y=\"-126.7\" font-family=\"Helvetica,sans-Serif\" font-size=\"14.00\">samples = 439</text>\n",
       "<text text-anchor=\"start\" x=\"263.25\" y=\"-111.7\" font-family=\"Helvetica,sans-Serif\" font-size=\"14.00\">value = [356, 83]</text>\n",
       "</g>\n",
       "<!-- 0&#45;&gt;2 -->\n",
       "<g id=\"edge4\" class=\"edge\">\n",
       "<title>0&#45;&gt;2</title>\n",
       "<path fill=\"none\" stroke=\"black\" d=\"M264.99,-223.76C272.31,-211.26 280.75,-196.87 288.51,-183.64\"/>\n",
       "<polygon fill=\"black\" stroke=\"black\" points=\"291.97,-185.64 294.01,-175.25 285.93,-182.1 291.97,-185.64\"/>\n",
       "<text text-anchor=\"middle\" x=\"300.32\" y=\"-192.64\" font-family=\"Helvetica,sans-Serif\" font-size=\"14.00\">False</text>\n",
       "</g>\n",
       "<!-- 3 -->\n",
       "<g id=\"node3\" class=\"node\">\n",
       "<title>3</title>\n",
       "<path fill=\"#40a0e6\" stroke=\"black\" d=\"M97,-56.5C97,-56.5 12,-56.5 12,-56.5 6,-56.5 0,-50.5 0,-44.5 0,-44.5 0,-15.5 0,-15.5 0,-9.5 6,-3.5 12,-3.5 12,-3.5 97,-3.5 97,-3.5 103,-3.5 109,-9.5 109,-15.5 109,-15.5 109,-44.5 109,-44.5 109,-50.5 103,-56.5 97,-56.5\"/>\n",
       "<text text-anchor=\"start\" x=\"23\" y=\"-39.2\" font-family=\"Helvetica,sans-Serif\" font-size=\"14.00\">gini = 0.06</text>\n",
       "<text text-anchor=\"start\" x=\"9.88\" y=\"-24.2\" font-family=\"Helvetica,sans-Serif\" font-size=\"14.00\">samples = 120</text>\n",
       "<text text-anchor=\"start\" x=\"8\" y=\"-9.2\" font-family=\"Helvetica,sans-Serif\" font-size=\"14.00\">value = [4, 116]</text>\n",
       "</g>\n",
       "<!-- 1&#45;&gt;3 -->\n",
       "<g id=\"edge2\" class=\"edge\">\n",
       "<title>1&#45;&gt;3</title>\n",
       "<path fill=\"none\" stroke=\"black\" d=\"M140.28,-105.72C125.03,-92.43 107.52,-77.18 92.31,-63.93\"/>\n",
       "<polygon fill=\"black\" stroke=\"black\" points=\"94.97,-60.73 85.13,-56.8 90.37,-66.01 94.97,-60.73\"/>\n",
       "</g>\n",
       "<!-- 4 -->\n",
       "<g id=\"node4\" class=\"node\">\n",
       "<title>4</title>\n",
       "<path fill=\"#fffdfb\" stroke=\"black\" d=\"M224,-56.5C224,-56.5 139,-56.5 139,-56.5 133,-56.5 127,-50.5 127,-44.5 127,-44.5 127,-15.5 127,-15.5 127,-9.5 133,-3.5 139,-3.5 139,-3.5 224,-3.5 224,-3.5 230,-3.5 236,-9.5 236,-15.5 236,-15.5 236,-44.5 236,-44.5 236,-50.5 230,-56.5 224,-56.5\"/>\n",
       "<text text-anchor=\"start\" x=\"153.75\" y=\"-39.2\" font-family=\"Helvetica,sans-Serif\" font-size=\"14.00\">gini = 0.5</text>\n",
       "<text text-anchor=\"start\" x=\"136.88\" y=\"-24.2\" font-family=\"Helvetica,sans-Serif\" font-size=\"14.00\">samples = 109</text>\n",
       "<text text-anchor=\"start\" x=\"135\" y=\"-9.2\" font-family=\"Helvetica,sans-Serif\" font-size=\"14.00\">value = [55, 54]</text>\n",
       "</g>\n",
       "<!-- 1&#45;&gt;4 -->\n",
       "<g id=\"edge3\" class=\"edge\">\n",
       "<title>1&#45;&gt;4</title>\n",
       "<path fill=\"none\" stroke=\"black\" d=\"M179.42,-105.72C179.76,-93.66 180.14,-79.99 180.48,-67.66\"/>\n",
       "<polygon fill=\"black\" stroke=\"black\" points=\"184,-67.9 180.78,-57.8 177.01,-67.7 184,-67.9\"/>\n",
       "</g>\n",
       "<!-- 5 -->\n",
       "<g id=\"node6\" class=\"node\">\n",
       "<title>5</title>\n",
       "<path fill=\"#88c4ef\" stroke=\"black\" d=\"M349.25,-56.5C349.25,-56.5 271.75,-56.5 271.75,-56.5 265.75,-56.5 259.75,-50.5 259.75,-44.5 259.75,-44.5 259.75,-15.5 259.75,-15.5 259.75,-9.5 265.75,-3.5 271.75,-3.5 271.75,-3.5 349.25,-3.5 349.25,-3.5 355.25,-3.5 361.25,-9.5 361.25,-15.5 361.25,-15.5 361.25,-44.5 361.25,-44.5 361.25,-50.5 355.25,-56.5 349.25,-56.5\"/>\n",
       "<text text-anchor=\"start\" x=\"279\" y=\"-39.2\" font-family=\"Helvetica,sans-Serif\" font-size=\"14.00\">gini = 0.41</text>\n",
       "<text text-anchor=\"start\" x=\"269.62\" y=\"-24.2\" font-family=\"Helvetica,sans-Serif\" font-size=\"14.00\">samples = 21</text>\n",
       "<text text-anchor=\"start\" x=\"267.75\" y=\"-9.2\" font-family=\"Helvetica,sans-Serif\" font-size=\"14.00\">value = [6, 15]</text>\n",
       "</g>\n",
       "<!-- 2&#45;&gt;5 -->\n",
       "<g id=\"edge5\" class=\"edge\">\n",
       "<title>2&#45;&gt;5</title>\n",
       "<path fill=\"none\" stroke=\"black\" d=\"M312.58,-105.72C312.24,-93.66 311.86,-79.99 311.52,-67.66\"/>\n",
       "<polygon fill=\"black\" stroke=\"black\" points=\"314.99,-67.7 311.22,-57.8 308,-67.9 314.99,-67.7\"/>\n",
       "</g>\n",
       "<!-- 6 -->\n",
       "<g id=\"node7\" class=\"node\">\n",
       "<title>6</title>\n",
       "<path fill=\"#ea995f\" stroke=\"black\" d=\"M483.75,-56.5C483.75,-56.5 391.25,-56.5 391.25,-56.5 385.25,-56.5 379.25,-50.5 379.25,-44.5 379.25,-44.5 379.25,-15.5 379.25,-15.5 379.25,-9.5 385.25,-3.5 391.25,-3.5 391.25,-3.5 483.75,-3.5 483.75,-3.5 489.75,-3.5 495.75,-9.5 495.75,-15.5 495.75,-15.5 495.75,-44.5 495.75,-44.5 495.75,-50.5 489.75,-56.5 483.75,-56.5\"/>\n",
       "<text text-anchor=\"start\" x=\"406\" y=\"-39.2\" font-family=\"Helvetica,sans-Serif\" font-size=\"14.00\">gini = 0.27</text>\n",
       "<text text-anchor=\"start\" x=\"392.88\" y=\"-24.2\" font-family=\"Helvetica,sans-Serif\" font-size=\"14.00\">samples = 418</text>\n",
       "<text text-anchor=\"start\" x=\"387.25\" y=\"-9.2\" font-family=\"Helvetica,sans-Serif\" font-size=\"14.00\">value = [350, 68]</text>\n",
       "</g>\n",
       "<!-- 2&#45;&gt;6 -->\n",
       "<g id=\"edge6\" class=\"edge\">\n",
       "<title>2&#45;&gt;6</title>\n",
       "<path fill=\"none\" stroke=\"black\" d=\"M351.72,-105.72C366.97,-92.43 384.48,-77.18 399.69,-63.93\"/>\n",
       "<polygon fill=\"black\" stroke=\"black\" points=\"401.63,-66.01 406.87,-56.8 397.03,-60.73 401.63,-66.01\"/>\n",
       "</g>\n",
       "</g>\n",
       "</svg>\n"
      ],
      "text/plain": [
       "<graphviz.sources.Source at 0x2a06172d0>"
      ]
     },
     "execution_count": 33,
     "metadata": {},
     "output_type": "execute_result"
    }
   ],
   "source": [
    "draw_tree(m, _train_xs, size=10)"
   ]
  },
  {
   "cell_type": "code",
   "execution_count": 34,
   "metadata": {},
   "outputs": [],
   "source": [
    "# Let's add some basic code to work out the Gini coefficient\n",
    "# Roughly: how likely is it that if you did 2 samples, you'd get the same value?\n",
    "def gini(cond):\n",
    "    act = train_df.loc[cond, dependent_var]\n",
    "    return 1 - act.mean()**2 - (1 - act).mean()**2"
   ]
  },
  {
   "cell_type": "code",
   "execution_count": 35,
   "metadata": {},
   "outputs": [
    {
     "data": {
      "text/plain": [
       "(0.3828350034484158, 0.3064437162277842)"
      ]
     },
     "execution_count": 35,
     "metadata": {},
     "output_type": "execute_result"
    }
   ],
   "source": [
    "(gini(train_df.Sex == 'female'), gini(train_df.Sex == 'male'))"
   ]
  },
  {
   "cell_type": "code",
   "execution_count": 36,
   "metadata": {},
   "outputs": [
    {
     "data": {
      "text/plain": [
       "0.2242152466367713"
      ]
     },
     "execution_count": 36,
     "metadata": {},
     "output_type": "execute_result"
    }
   ],
   "source": [
    "# How does the tree compare to our first OneR?\n",
    "mean_absolute_error(_val_y, m.predict(_val_xs))"
   ]
  },
  {
   "cell_type": "markdown",
   "metadata": {},
   "source": [
    "That's actually slightly worse!\n",
    "Let's try a bigger tree..."
   ]
  },
  {
   "cell_type": "code",
   "execution_count": 37,
   "metadata": {},
   "outputs": [
    {
     "data": {
      "image/svg+xml": [
       "<?xml version=\"1.0\" encoding=\"UTF-8\" standalone=\"no\"?>\n",
       "<!DOCTYPE svg PUBLIC \"-//W3C//DTD SVG 1.1//EN\"\n",
       " \"http://www.w3.org/Graphics/SVG/1.1/DTD/svg11.dtd\">\n",
       "<!-- Generated by graphviz version 8.1.0 (20230707.0739)\n",
       " -->\n",
       "<!-- Title: Tree Pages: 1 -->\n",
       "<svg width=\"1137pt\" height=\"685pt\"\n",
       " viewBox=\"0.00 0.00 1136.62 685.00\" xmlns=\"http://www.w3.org/2000/svg\" xmlns:xlink=\"http://www.w3.org/1999/xlink\">\n",
       "<g id=\"graph0\" class=\"graph\" transform=\"scale(1 1) rotate(0) translate(4 681)\">\n",
       "<title>Tree</title>\n",
       "<polygon fill=\"white\" stroke=\"none\" points=\"-4,4 -4,-681 1132.62,-681 1132.62,4 -4,4\"/>\n",
       "<!-- 0 -->\n",
       "<g id=\"node1\" class=\"node\">\n",
       "<title>0</title>\n",
       "<path fill=\"#f5ceb2\" stroke=\"black\" d=\"M595.83,-677C595.83,-677 495.83,-677 495.83,-677 489.83,-677 483.83,-671 483.83,-665 483.83,-665 483.83,-621 483.83,-621 483.83,-615 489.83,-609 495.83,-609 495.83,-609 595.83,-609 595.83,-609 601.83,-609 607.83,-615 607.83,-621 607.83,-621 607.83,-665 607.83,-665 607.83,-671 601.83,-677 595.83,-677\"/>\n",
       "<text text-anchor=\"start\" x=\"517.33\" y=\"-659.7\" font-family=\"Helvetica,sans-Serif\" font-size=\"14.00\">Sex ≤ 0.5</text>\n",
       "<text text-anchor=\"start\" x=\"514.33\" y=\"-644.7\" font-family=\"Helvetica,sans-Serif\" font-size=\"14.00\">gini = 0.47</text>\n",
       "<text text-anchor=\"start\" x=\"501.2\" y=\"-629.7\" font-family=\"Helvetica,sans-Serif\" font-size=\"14.00\">samples = 668</text>\n",
       "<text text-anchor=\"start\" x=\"491.83\" y=\"-614.7\" font-family=\"Helvetica,sans-Serif\" font-size=\"14.00\">value = [415, 253]</text>\n",
       "</g>\n",
       "<!-- 1 -->\n",
       "<g id=\"node2\" class=\"node\">\n",
       "<title>1</title>\n",
       "<path fill=\"#7ebfee\" stroke=\"black\" d=\"M450.08,-573C450.08,-573 357.58,-573 357.58,-573 351.58,-573 345.58,-567 345.58,-561 345.58,-561 345.58,-517 345.58,-517 345.58,-511 351.58,-505 357.58,-505 357.58,-505 450.08,-505 450.08,-505 456.08,-505 462.08,-511 462.08,-517 462.08,-517 462.08,-561 462.08,-561 462.08,-567 456.08,-573 450.08,-573\"/>\n",
       "<text text-anchor=\"start\" x=\"367.08\" y=\"-555.7\" font-family=\"Helvetica,sans-Serif\" font-size=\"14.00\">Pclass ≤ 2.5</text>\n",
       "<text text-anchor=\"start\" x=\"372.33\" y=\"-540.7\" font-family=\"Helvetica,sans-Serif\" font-size=\"14.00\">gini = 0.38</text>\n",
       "<text text-anchor=\"start\" x=\"359.2\" y=\"-525.7\" font-family=\"Helvetica,sans-Serif\" font-size=\"14.00\">samples = 229</text>\n",
       "<text text-anchor=\"start\" x=\"353.58\" y=\"-510.7\" font-family=\"Helvetica,sans-Serif\" font-size=\"14.00\">value = [59, 170]</text>\n",
       "</g>\n",
       "<!-- 0&#45;&gt;1 -->\n",
       "<g id=\"edge1\" class=\"edge\">\n",
       "<title>0&#45;&gt;1</title>\n",
       "<path fill=\"none\" stroke=\"black\" d=\"M499.33,-608.6C486.46,-599.36 472.36,-589.23 459.05,-579.66\"/>\n",
       "<polygon fill=\"black\" stroke=\"black\" points=\"461.59,-576.47 451.43,-573.47 457.51,-582.15 461.59,-576.47\"/>\n",
       "<text text-anchor=\"middle\" x=\"454.47\" y=\"-592.34\" font-family=\"Helvetica,sans-Serif\" font-size=\"14.00\">True</text>\n",
       "</g>\n",
       "<!-- 8 -->\n",
       "<g id=\"node9\" class=\"node\">\n",
       "<title>8</title>\n",
       "<path fill=\"#eb9e67\" stroke=\"black\" d=\"M744.08,-573C744.08,-573 651.58,-573 651.58,-573 645.58,-573 639.58,-567 639.58,-561 639.58,-561 639.58,-517 639.58,-517 639.58,-511 645.58,-505 651.58,-505 651.58,-505 744.08,-505 744.08,-505 750.08,-505 756.08,-511 756.08,-517 756.08,-517 756.08,-561 756.08,-561 756.08,-567 750.08,-573 744.08,-573\"/>\n",
       "<text text-anchor=\"start\" x=\"652.08\" y=\"-555.7\" font-family=\"Helvetica,sans-Serif\" font-size=\"14.00\">LogFare ≤ 3.31</text>\n",
       "<text text-anchor=\"start\" x=\"666.33\" y=\"-540.7\" font-family=\"Helvetica,sans-Serif\" font-size=\"14.00\">gini = 0.31</text>\n",
       "<text text-anchor=\"start\" x=\"653.2\" y=\"-525.7\" font-family=\"Helvetica,sans-Serif\" font-size=\"14.00\">samples = 439</text>\n",
       "<text text-anchor=\"start\" x=\"647.58\" y=\"-510.7\" font-family=\"Helvetica,sans-Serif\" font-size=\"14.00\">value = [356, 83]</text>\n",
       "</g>\n",
       "<!-- 0&#45;&gt;8 -->\n",
       "<g id=\"edge8\" class=\"edge\">\n",
       "<title>0&#45;&gt;8</title>\n",
       "<path fill=\"none\" stroke=\"black\" d=\"M595.6,-608.6C609.51,-599.27 624.75,-589.04 639.13,-579.39\"/>\n",
       "<polygon fill=\"black\" stroke=\"black\" points=\"640.59,-581.95 646.94,-573.47 636.69,-576.14 640.59,-581.95\"/>\n",
       "<text text-anchor=\"middle\" x=\"643.12\" y=\"-592.2\" font-family=\"Helvetica,sans-Serif\" font-size=\"14.00\">False</text>\n",
       "</g>\n",
       "<!-- 2 -->\n",
       "<g id=\"node3\" class=\"node\">\n",
       "<title>2</title>\n",
       "<path fill=\"#40a0e6\" stroke=\"black\" d=\"M237.33,-469C237.33,-469 152.33,-469 152.33,-469 146.33,-469 140.33,-463 140.33,-457 140.33,-457 140.33,-413 140.33,-413 140.33,-407 146.33,-401 152.33,-401 152.33,-401 237.33,-401 237.33,-401 243.33,-401 249.33,-407 249.33,-413 249.33,-413 249.33,-457 249.33,-457 249.33,-463 243.33,-469 237.33,-469\"/>\n",
       "<text text-anchor=\"start\" x=\"159.95\" y=\"-451.7\" font-family=\"Helvetica,sans-Serif\" font-size=\"14.00\">SibSp ≤ 0.5</text>\n",
       "<text text-anchor=\"start\" x=\"163.33\" y=\"-436.7\" font-family=\"Helvetica,sans-Serif\" font-size=\"14.00\">gini = 0.06</text>\n",
       "<text text-anchor=\"start\" x=\"150.2\" y=\"-421.7\" font-family=\"Helvetica,sans-Serif\" font-size=\"14.00\">samples = 120</text>\n",
       "<text text-anchor=\"start\" x=\"148.33\" y=\"-406.7\" font-family=\"Helvetica,sans-Serif\" font-size=\"14.00\">value = [4, 116]</text>\n",
       "</g>\n",
       "<!-- 1&#45;&gt;2 -->\n",
       "<g id=\"edge2\" class=\"edge\">\n",
       "<title>1&#45;&gt;2</title>\n",
       "<path fill=\"none\" stroke=\"black\" d=\"M345.33,-509.45C318.66,-496.43 286.99,-480.98 259.6,-467.61\"/>\n",
       "<polygon fill=\"black\" stroke=\"black\" points=\"261.24,-464.03 250.72,-462.79 258.17,-470.32 261.24,-464.03\"/>\n",
       "</g>\n",
       "<!-- 5 -->\n",
       "<g id=\"node6\" class=\"node\">\n",
       "<title>5</title>\n",
       "<path fill=\"#fffdfb\" stroke=\"black\" d=\"M446.33,-469C446.33,-469 361.33,-469 361.33,-469 355.33,-469 349.33,-463 349.33,-457 349.33,-457 349.33,-413 349.33,-413 349.33,-407 355.33,-401 361.33,-401 361.33,-401 446.33,-401 446.33,-401 452.33,-401 458.33,-407 458.33,-413 458.33,-413 458.33,-457 458.33,-457 458.33,-463 452.33,-469 446.33,-469\"/>\n",
       "<text text-anchor=\"start\" x=\"361.83\" y=\"-451.7\" font-family=\"Helvetica,sans-Serif\" font-size=\"14.00\">LogFare ≤ 2.7</text>\n",
       "<text text-anchor=\"start\" x=\"376.08\" y=\"-436.7\" font-family=\"Helvetica,sans-Serif\" font-size=\"14.00\">gini = 0.5</text>\n",
       "<text text-anchor=\"start\" x=\"359.2\" y=\"-421.7\" font-family=\"Helvetica,sans-Serif\" font-size=\"14.00\">samples = 109</text>\n",
       "<text text-anchor=\"start\" x=\"357.33\" y=\"-406.7\" font-family=\"Helvetica,sans-Serif\" font-size=\"14.00\">value = [55, 54]</text>\n",
       "</g>\n",
       "<!-- 1&#45;&gt;5 -->\n",
       "<g id=\"edge5\" class=\"edge\">\n",
       "<title>1&#45;&gt;5</title>\n",
       "<path fill=\"none\" stroke=\"black\" d=\"M403.83,-504.6C403.83,-496.85 403.83,-488.49 403.83,-480.35\"/>\n",
       "<polygon fill=\"black\" stroke=\"black\" points=\"407.33,-480.47 403.83,-470.47 400.33,-480.47 407.33,-480.47\"/>\n",
       "</g>\n",
       "<!-- 3 -->\n",
       "<g id=\"node4\" class=\"node\">\n",
       "<title>3</title>\n",
       "<path fill=\"#3c9ee5\" stroke=\"black\" d=\"M96.58,-357.5C96.58,-357.5 19.08,-357.5 19.08,-357.5 13.08,-357.5 7.08,-351.5 7.08,-345.5 7.08,-345.5 7.08,-316.5 7.08,-316.5 7.08,-310.5 13.08,-304.5 19.08,-304.5 19.08,-304.5 96.58,-304.5 96.58,-304.5 102.58,-304.5 108.58,-310.5 108.58,-316.5 108.58,-316.5 108.58,-345.5 108.58,-345.5 108.58,-351.5 102.58,-357.5 96.58,-357.5\"/>\n",
       "<text text-anchor=\"start\" x=\"26.33\" y=\"-340.2\" font-family=\"Helvetica,sans-Serif\" font-size=\"14.00\">gini = 0.03</text>\n",
       "<text text-anchor=\"start\" x=\"16.95\" y=\"-325.2\" font-family=\"Helvetica,sans-Serif\" font-size=\"14.00\">samples = 67</text>\n",
       "<text text-anchor=\"start\" x=\"15.08\" y=\"-310.2\" font-family=\"Helvetica,sans-Serif\" font-size=\"14.00\">value = [1, 66]</text>\n",
       "</g>\n",
       "<!-- 2&#45;&gt;3 -->\n",
       "<g id=\"edge3\" class=\"edge\">\n",
       "<title>2&#45;&gt;3</title>\n",
       "<path fill=\"none\" stroke=\"black\" d=\"M149.97,-400.6C134.17,-388.84 116.45,-375.65 100.81,-364\"/>\n",
       "<polygon fill=\"black\" stroke=\"black\" points=\"103.46,-360.87 93.35,-357.71 99.28,-366.49 103.46,-360.87\"/>\n",
       "</g>\n",
       "<!-- 4 -->\n",
       "<g id=\"node5\" class=\"node\">\n",
       "<title>4</title>\n",
       "<path fill=\"#45a3e7\" stroke=\"black\" d=\"M233.58,-357.5C233.58,-357.5 156.08,-357.5 156.08,-357.5 150.08,-357.5 144.08,-351.5 144.08,-345.5 144.08,-345.5 144.08,-316.5 144.08,-316.5 144.08,-310.5 150.08,-304.5 156.08,-304.5 156.08,-304.5 233.58,-304.5 233.58,-304.5 239.58,-304.5 245.58,-310.5 245.58,-316.5 245.58,-316.5 245.58,-345.5 245.58,-345.5 245.58,-351.5 239.58,-357.5 233.58,-357.5\"/>\n",
       "<text text-anchor=\"start\" x=\"163.33\" y=\"-340.2\" font-family=\"Helvetica,sans-Serif\" font-size=\"14.00\">gini = 0.11</text>\n",
       "<text text-anchor=\"start\" x=\"153.95\" y=\"-325.2\" font-family=\"Helvetica,sans-Serif\" font-size=\"14.00\">samples = 53</text>\n",
       "<text text-anchor=\"start\" x=\"152.08\" y=\"-310.2\" font-family=\"Helvetica,sans-Serif\" font-size=\"14.00\">value = [3, 50]</text>\n",
       "</g>\n",
       "<!-- 2&#45;&gt;4 -->\n",
       "<g id=\"edge4\" class=\"edge\">\n",
       "<title>2&#45;&gt;4</title>\n",
       "<path fill=\"none\" stroke=\"black\" d=\"M194.83,-400.6C194.83,-390.36 194.83,-379.04 194.83,-368.6\"/>\n",
       "<polygon fill=\"black\" stroke=\"black\" points=\"198.33,-368.71 194.83,-358.71 191.33,-368.71 198.33,-368.71\"/>\n",
       "</g>\n",
       "<!-- 6 -->\n",
       "<g id=\"node7\" class=\"node\">\n",
       "<title>6</title>\n",
       "<path fill=\"#cbe5f8\" stroke=\"black\" d=\"M377.33,-357.5C377.33,-357.5 292.33,-357.5 292.33,-357.5 286.33,-357.5 280.33,-351.5 280.33,-345.5 280.33,-345.5 280.33,-316.5 280.33,-316.5 280.33,-310.5 286.33,-304.5 292.33,-304.5 292.33,-304.5 377.33,-304.5 377.33,-304.5 383.33,-304.5 389.33,-310.5 389.33,-316.5 389.33,-316.5 389.33,-345.5 389.33,-345.5 389.33,-351.5 383.33,-357.5 377.33,-357.5\"/>\n",
       "<text text-anchor=\"start\" x=\"303.33\" y=\"-340.2\" font-family=\"Helvetica,sans-Serif\" font-size=\"14.00\">gini = 0.49</text>\n",
       "<text text-anchor=\"start\" x=\"293.95\" y=\"-325.2\" font-family=\"Helvetica,sans-Serif\" font-size=\"14.00\">samples = 59</text>\n",
       "<text text-anchor=\"start\" x=\"288.33\" y=\"-310.2\" font-family=\"Helvetica,sans-Serif\" font-size=\"14.00\">value = [25, 34]</text>\n",
       "</g>\n",
       "<!-- 5&#45;&gt;6 -->\n",
       "<g id=\"edge6\" class=\"edge\">\n",
       "<title>5&#45;&gt;6</title>\n",
       "<path fill=\"none\" stroke=\"black\" d=\"M381.23,-400.6C373.86,-389.71 365.67,-377.59 358.24,-366.61\"/>\n",
       "<polygon fill=\"black\" stroke=\"black\" points=\"360.72,-365.03 352.22,-358.71 354.92,-368.95 360.72,-365.03\"/>\n",
       "</g>\n",
       "<!-- 7 -->\n",
       "<g id=\"node8\" class=\"node\">\n",
       "<title>7</title>\n",
       "<path fill=\"#f6d5bd\" stroke=\"black\" d=\"M521.33,-357.5C521.33,-357.5 436.33,-357.5 436.33,-357.5 430.33,-357.5 424.33,-351.5 424.33,-345.5 424.33,-345.5 424.33,-316.5 424.33,-316.5 424.33,-310.5 430.33,-304.5 436.33,-304.5 436.33,-304.5 521.33,-304.5 521.33,-304.5 527.33,-304.5 533.33,-310.5 533.33,-316.5 533.33,-316.5 533.33,-345.5 533.33,-345.5 533.33,-351.5 527.33,-357.5 521.33,-357.5\"/>\n",
       "<text text-anchor=\"start\" x=\"447.33\" y=\"-340.2\" font-family=\"Helvetica,sans-Serif\" font-size=\"14.00\">gini = 0.48</text>\n",
       "<text text-anchor=\"start\" x=\"437.95\" y=\"-325.2\" font-family=\"Helvetica,sans-Serif\" font-size=\"14.00\">samples = 50</text>\n",
       "<text text-anchor=\"start\" x=\"432.33\" y=\"-310.2\" font-family=\"Helvetica,sans-Serif\" font-size=\"14.00\">value = [30, 20]</text>\n",
       "</g>\n",
       "<!-- 5&#45;&gt;7 -->\n",
       "<g id=\"edge7\" class=\"edge\">\n",
       "<title>5&#45;&gt;7</title>\n",
       "<path fill=\"none\" stroke=\"black\" d=\"M428.38,-400.6C436.48,-389.6 445.48,-377.35 453.62,-366.28\"/>\n",
       "<polygon fill=\"black\" stroke=\"black\" points=\"456.82,-368.84 459.93,-358.71 451.18,-364.69 456.82,-368.84\"/>\n",
       "</g>\n",
       "<!-- 9 -->\n",
       "<g id=\"node10\" class=\"node\">\n",
       "<title>9</title>\n",
       "<path fill=\"#e99659\" stroke=\"black\" d=\"M744.08,-469C744.08,-469 651.58,-469 651.58,-469 645.58,-469 639.58,-463 639.58,-457 639.58,-457 639.58,-413 639.58,-413 639.58,-407 645.58,-401 651.58,-401 651.58,-401 744.08,-401 744.08,-401 750.08,-401 756.08,-407 756.08,-413 756.08,-413 756.08,-457 756.08,-457 756.08,-463 750.08,-469 744.08,-469\"/>\n",
       "<text text-anchor=\"start\" x=\"665.2\" y=\"-451.7\" font-family=\"Helvetica,sans-Serif\" font-size=\"14.00\">Age ≤ 20.5</text>\n",
       "<text text-anchor=\"start\" x=\"666.33\" y=\"-436.7\" font-family=\"Helvetica,sans-Serif\" font-size=\"14.00\">gini = 0.24</text>\n",
       "<text text-anchor=\"start\" x=\"653.2\" y=\"-421.7\" font-family=\"Helvetica,sans-Serif\" font-size=\"14.00\">samples = 320</text>\n",
       "<text text-anchor=\"start\" x=\"647.58\" y=\"-406.7\" font-family=\"Helvetica,sans-Serif\" font-size=\"14.00\">value = [275, 45]</text>\n",
       "</g>\n",
       "<!-- 8&#45;&gt;9 -->\n",
       "<g id=\"edge9\" class=\"edge\">\n",
       "<title>8&#45;&gt;9</title>\n",
       "<path fill=\"none\" stroke=\"black\" d=\"M697.83,-504.6C697.83,-496.85 697.83,-488.49 697.83,-480.35\"/>\n",
       "<polygon fill=\"black\" stroke=\"black\" points=\"701.33,-480.47 697.83,-470.47 694.33,-480.47 701.33,-480.47\"/>\n",
       "</g>\n",
       "<!-- 18 -->\n",
       "<g id=\"node19\" class=\"node\">\n",
       "<title>18</title>\n",
       "<path fill=\"#f1bc96\" stroke=\"black\" d=\"M964.33,-469C964.33,-469 879.33,-469 879.33,-469 873.33,-469 867.33,-463 867.33,-457 867.33,-457 867.33,-413 867.33,-413 867.33,-407 873.33,-401 879.33,-401 879.33,-401 964.33,-401 964.33,-401 970.33,-401 976.33,-407 976.33,-413 976.33,-413 976.33,-457 976.33,-457 976.33,-463 970.33,-469 964.33,-469\"/>\n",
       "<text text-anchor=\"start\" x=\"886.95\" y=\"-451.7\" font-family=\"Helvetica,sans-Serif\" font-size=\"14.00\">SibSp ≤ 0.5</text>\n",
       "<text text-anchor=\"start\" x=\"890.33\" y=\"-436.7\" font-family=\"Helvetica,sans-Serif\" font-size=\"14.00\">gini = 0.43</text>\n",
       "<text text-anchor=\"start\" x=\"877.2\" y=\"-421.7\" font-family=\"Helvetica,sans-Serif\" font-size=\"14.00\">samples = 119</text>\n",
       "<text text-anchor=\"start\" x=\"875.33\" y=\"-406.7\" font-family=\"Helvetica,sans-Serif\" font-size=\"14.00\">value = [81, 38]</text>\n",
       "</g>\n",
       "<!-- 8&#45;&gt;18 -->\n",
       "<g id=\"edge18\" class=\"edge\">\n",
       "<title>8&#45;&gt;18</title>\n",
       "<path fill=\"none\" stroke=\"black\" d=\"M756.39,-511.33C787.4,-497.21 825.55,-479.84 857.4,-465.34\"/>\n",
       "<polygon fill=\"black\" stroke=\"black\" points=\"858.42,-468.26 866.07,-460.93 855.52,-461.89 858.42,-468.26\"/>\n",
       "</g>\n",
       "<!-- 10 -->\n",
       "<g id=\"node11\" class=\"node\">\n",
       "<title>10</title>\n",
       "<path fill=\"#f1b992\" stroke=\"black\" d=\"M666.33,-357.5C666.33,-357.5 581.33,-357.5 581.33,-357.5 575.33,-357.5 569.33,-351.5 569.33,-345.5 569.33,-345.5 569.33,-316.5 569.33,-316.5 569.33,-310.5 575.33,-304.5 581.33,-304.5 581.33,-304.5 666.33,-304.5 666.33,-304.5 672.33,-304.5 678.33,-310.5 678.33,-316.5 678.33,-316.5 678.33,-345.5 678.33,-345.5 678.33,-351.5 672.33,-357.5 666.33,-357.5\"/>\n",
       "<text text-anchor=\"start\" x=\"592.33\" y=\"-340.2\" font-family=\"Helvetica,sans-Serif\" font-size=\"14.00\">gini = 0.43</text>\n",
       "<text text-anchor=\"start\" x=\"582.95\" y=\"-325.2\" font-family=\"Helvetica,sans-Serif\" font-size=\"14.00\">samples = 55</text>\n",
       "<text text-anchor=\"start\" x=\"577.33\" y=\"-310.2\" font-family=\"Helvetica,sans-Serif\" font-size=\"14.00\">value = [38, 17]</text>\n",
       "</g>\n",
       "<!-- 9&#45;&gt;10 -->\n",
       "<g id=\"edge10\" class=\"edge\">\n",
       "<title>9&#45;&gt;10</title>\n",
       "<path fill=\"none\" stroke=\"black\" d=\"M673.6,-400.6C665.61,-389.6 656.73,-377.35 648.7,-366.28\"/>\n",
       "<polygon fill=\"black\" stroke=\"black\" points=\"651.18,-364.74 642.48,-358.71 645.52,-368.86 651.18,-364.74\"/>\n",
       "</g>\n",
       "<!-- 11 -->\n",
       "<g id=\"node12\" class=\"node\">\n",
       "<title>11</title>\n",
       "<path fill=\"#e89050\" stroke=\"black\" d=\"M819.08,-365C819.08,-365 726.58,-365 726.58,-365 720.58,-365 714.58,-359 714.58,-353 714.58,-353 714.58,-309 714.58,-309 714.58,-303 720.58,-297 726.58,-297 726.58,-297 819.08,-297 819.08,-297 825.08,-297 831.08,-303 831.08,-309 831.08,-309 831.08,-353 831.08,-353 831.08,-359 825.08,-365 819.08,-365\"/>\n",
       "<text text-anchor=\"start\" x=\"740.2\" y=\"-347.7\" font-family=\"Helvetica,sans-Serif\" font-size=\"14.00\">Age ≤ 32.5</text>\n",
       "<text text-anchor=\"start\" x=\"741.33\" y=\"-332.7\" font-family=\"Helvetica,sans-Serif\" font-size=\"14.00\">gini = 0.19</text>\n",
       "<text text-anchor=\"start\" x=\"728.2\" y=\"-317.7\" font-family=\"Helvetica,sans-Serif\" font-size=\"14.00\">samples = 265</text>\n",
       "<text text-anchor=\"start\" x=\"722.58\" y=\"-302.7\" font-family=\"Helvetica,sans-Serif\" font-size=\"14.00\">value = [237, 28]</text>\n",
       "</g>\n",
       "<!-- 9&#45;&gt;11 -->\n",
       "<g id=\"edge11\" class=\"edge\">\n",
       "<title>9&#45;&gt;11</title>\n",
       "<path fill=\"none\" stroke=\"black\" d=\"M722.38,-400.6C728.6,-392.15 735.36,-382.96 741.85,-374.13\"/>\n",
       "<polygon fill=\"black\" stroke=\"black\" points=\"745.11,-376.6 748.21,-366.47 739.47,-372.46 745.11,-376.6\"/>\n",
       "</g>\n",
       "<!-- 12 -->\n",
       "<g id=\"node13\" class=\"node\">\n",
       "<title>12</title>\n",
       "<path fill=\"#e99356\" stroke=\"black\" d=\"M746.08,-261C746.08,-261 653.58,-261 653.58,-261 647.58,-261 641.58,-255 641.58,-249 641.58,-249 641.58,-205 641.58,-205 641.58,-199 647.58,-193 653.58,-193 653.58,-193 746.08,-193 746.08,-193 752.08,-193 758.08,-199 758.08,-205 758.08,-205 758.08,-249 758.08,-249 758.08,-255 752.08,-261 746.08,-261\"/>\n",
       "<text text-anchor=\"start\" x=\"663.45\" y=\"-243.7\" font-family=\"Helvetica,sans-Serif\" font-size=\"14.00\">Age ≤ 24.75</text>\n",
       "<text text-anchor=\"start\" x=\"668.33\" y=\"-228.7\" font-family=\"Helvetica,sans-Serif\" font-size=\"14.00\">gini = 0.22</text>\n",
       "<text text-anchor=\"start\" x=\"655.2\" y=\"-213.7\" font-family=\"Helvetica,sans-Serif\" font-size=\"14.00\">samples = 181</text>\n",
       "<text text-anchor=\"start\" x=\"649.58\" y=\"-198.7\" font-family=\"Helvetica,sans-Serif\" font-size=\"14.00\">value = [158, 23]</text>\n",
       "</g>\n",
       "<!-- 11&#45;&gt;12 -->\n",
       "<g id=\"edge12\" class=\"edge\">\n",
       "<title>11&#45;&gt;12</title>\n",
       "<path fill=\"none\" stroke=\"black\" d=\"M748.92,-296.6C742.94,-288.24 736.43,-279.15 730.18,-270.41\"/>\n",
       "<polygon fill=\"black\" stroke=\"black\" points=\"732.45,-268.57 723.78,-262.47 726.76,-272.64 732.45,-268.57\"/>\n",
       "</g>\n",
       "<!-- 17 -->\n",
       "<g id=\"node18\" class=\"node\">\n",
       "<title>17</title>\n",
       "<path fill=\"#e78946\" stroke=\"black\" d=\"M883.58,-253.5C883.58,-253.5 806.08,-253.5 806.08,-253.5 800.08,-253.5 794.08,-247.5 794.08,-241.5 794.08,-241.5 794.08,-212.5 794.08,-212.5 794.08,-206.5 800.08,-200.5 806.08,-200.5 806.08,-200.5 883.58,-200.5 883.58,-200.5 889.58,-200.5 895.58,-206.5 895.58,-212.5 895.58,-212.5 895.58,-241.5 895.58,-241.5 895.58,-247.5 889.58,-253.5 883.58,-253.5\"/>\n",
       "<text text-anchor=\"start\" x=\"813.33\" y=\"-236.2\" font-family=\"Helvetica,sans-Serif\" font-size=\"14.00\">gini = 0.11</text>\n",
       "<text text-anchor=\"start\" x=\"803.95\" y=\"-221.2\" font-family=\"Helvetica,sans-Serif\" font-size=\"14.00\">samples = 84</text>\n",
       "<text text-anchor=\"start\" x=\"802.08\" y=\"-206.2\" font-family=\"Helvetica,sans-Serif\" font-size=\"14.00\">value = [79, 5]</text>\n",
       "</g>\n",
       "<!-- 11&#45;&gt;17 -->\n",
       "<g id=\"edge17\" class=\"edge\">\n",
       "<title>11&#45;&gt;17</title>\n",
       "<path fill=\"none\" stroke=\"black\" d=\"M796.4,-296.6C804.09,-285.71 812.64,-273.59 820.4,-262.61\"/>\n",
       "<polygon fill=\"black\" stroke=\"black\" points=\"823.77,-264.89 826.68,-254.71 818.06,-260.86 823.77,-264.89\"/>\n",
       "</g>\n",
       "<!-- 13 -->\n",
       "<g id=\"node14\" class=\"node\">\n",
       "<title>13</title>\n",
       "<path fill=\"#e88d4c\" stroke=\"black\" d=\"M672.08,-157C672.08,-157 579.58,-157 579.58,-157 573.58,-157 567.58,-151 567.58,-145 567.58,-145 567.58,-101 567.58,-101 567.58,-95 573.58,-89 579.58,-89 579.58,-89 672.08,-89 672.08,-89 678.08,-89 684.08,-95 684.08,-101 684.08,-101 684.08,-145 684.08,-145 684.08,-151 678.08,-157 672.08,-157\"/>\n",
       "<text text-anchor=\"start\" x=\"580.08\" y=\"-139.7\" font-family=\"Helvetica,sans-Serif\" font-size=\"14.00\">LogFare ≤ 2.18</text>\n",
       "<text text-anchor=\"start\" x=\"594.33\" y=\"-124.7\" font-family=\"Helvetica,sans-Serif\" font-size=\"14.00\">gini = 0.16</text>\n",
       "<text text-anchor=\"start\" x=\"581.2\" y=\"-109.7\" font-family=\"Helvetica,sans-Serif\" font-size=\"14.00\">samples = 114</text>\n",
       "<text text-anchor=\"start\" x=\"575.58\" y=\"-94.7\" font-family=\"Helvetica,sans-Serif\" font-size=\"14.00\">value = [104, 10]</text>\n",
       "</g>\n",
       "<!-- 12&#45;&gt;13 -->\n",
       "<g id=\"edge13\" class=\"edge\">\n",
       "<title>12&#45;&gt;13</title>\n",
       "<path fill=\"none\" stroke=\"black\" d=\"M675.6,-192.6C669.46,-184.15 662.8,-174.96 656.4,-166.13\"/>\n",
       "<polygon fill=\"black\" stroke=\"black\" points=\"658.82,-164.51 650.11,-158.47 653.15,-168.62 658.82,-164.51\"/>\n",
       "</g>\n",
       "<!-- 16 -->\n",
       "<g id=\"node17\" class=\"node\">\n",
       "<title>16</title>\n",
       "<path fill=\"#eb9f69\" stroke=\"black\" d=\"M817.33,-149.5C817.33,-149.5 732.33,-149.5 732.33,-149.5 726.33,-149.5 720.33,-143.5 720.33,-137.5 720.33,-137.5 720.33,-108.5 720.33,-108.5 720.33,-102.5 726.33,-96.5 732.33,-96.5 732.33,-96.5 817.33,-96.5 817.33,-96.5 823.33,-96.5 829.33,-102.5 829.33,-108.5 829.33,-108.5 829.33,-137.5 829.33,-137.5 829.33,-143.5 823.33,-149.5 817.33,-149.5\"/>\n",
       "<text text-anchor=\"start\" x=\"743.33\" y=\"-132.2\" font-family=\"Helvetica,sans-Serif\" font-size=\"14.00\">gini = 0.31</text>\n",
       "<text text-anchor=\"start\" x=\"733.95\" y=\"-117.2\" font-family=\"Helvetica,sans-Serif\" font-size=\"14.00\">samples = 67</text>\n",
       "<text text-anchor=\"start\" x=\"728.33\" y=\"-102.2\" font-family=\"Helvetica,sans-Serif\" font-size=\"14.00\">value = [54, 13]</text>\n",
       "</g>\n",
       "<!-- 12&#45;&gt;16 -->\n",
       "<g id=\"edge16\" class=\"edge\">\n",
       "<title>12&#45;&gt;16</title>\n",
       "<path fill=\"none\" stroke=\"black\" d=\"M724.38,-192.6C732.48,-181.6 741.48,-169.35 749.62,-158.28\"/>\n",
       "<polygon fill=\"black\" stroke=\"black\" points=\"752.82,-160.84 755.93,-150.71 747.18,-156.69 752.82,-160.84\"/>\n",
       "</g>\n",
       "<!-- 14 -->\n",
       "<g id=\"node15\" class=\"node\">\n",
       "<title>14</title>\n",
       "<path fill=\"#e99254\" stroke=\"black\" d=\"M596.58,-53.5C596.58,-53.5 519.08,-53.5 519.08,-53.5 513.08,-53.5 507.08,-47.5 507.08,-41.5 507.08,-41.5 507.08,-12.5 507.08,-12.5 507.08,-6.5 513.08,-0.5 519.08,-0.5 519.08,-0.5 596.58,-0.5 596.58,-0.5 602.58,-0.5 608.58,-6.5 608.58,-12.5 608.58,-12.5 608.58,-41.5 608.58,-41.5 608.58,-47.5 602.58,-53.5 596.58,-53.5\"/>\n",
       "<text text-anchor=\"start\" x=\"526.33\" y=\"-36.2\" font-family=\"Helvetica,sans-Serif\" font-size=\"14.00\">gini = 0.21</text>\n",
       "<text text-anchor=\"start\" x=\"516.95\" y=\"-21.2\" font-family=\"Helvetica,sans-Serif\" font-size=\"14.00\">samples = 50</text>\n",
       "<text text-anchor=\"start\" x=\"515.08\" y=\"-6.2\" font-family=\"Helvetica,sans-Serif\" font-size=\"14.00\">value = [44, 6]</text>\n",
       "</g>\n",
       "<!-- 13&#45;&gt;14 -->\n",
       "<g id=\"edge14\" class=\"edge\">\n",
       "<title>13&#45;&gt;14</title>\n",
       "<path fill=\"none\" stroke=\"black\" d=\"M601.66,-88.59C595.61,-80.22 589.1,-71.22 582.99,-62.79\"/>\n",
       "<polygon fill=\"black\" stroke=\"black\" points=\"585.27,-60.96 576.57,-54.91 579.6,-65.07 585.27,-60.96\"/>\n",
       "</g>\n",
       "<!-- 15 -->\n",
       "<g id=\"node16\" class=\"node\">\n",
       "<title>15</title>\n",
       "<path fill=\"#e78946\" stroke=\"black\" d=\"M732.58,-53.5C732.58,-53.5 655.08,-53.5 655.08,-53.5 649.08,-53.5 643.08,-47.5 643.08,-41.5 643.08,-41.5 643.08,-12.5 643.08,-12.5 643.08,-6.5 649.08,-0.5 655.08,-0.5 655.08,-0.5 732.58,-0.5 732.58,-0.5 738.58,-0.5 744.58,-6.5 744.58,-12.5 744.58,-12.5 744.58,-41.5 744.58,-41.5 744.58,-47.5 738.58,-53.5 732.58,-53.5\"/>\n",
       "<text text-anchor=\"start\" x=\"662.33\" y=\"-36.2\" font-family=\"Helvetica,sans-Serif\" font-size=\"14.00\">gini = 0.12</text>\n",
       "<text text-anchor=\"start\" x=\"652.95\" y=\"-21.2\" font-family=\"Helvetica,sans-Serif\" font-size=\"14.00\">samples = 64</text>\n",
       "<text text-anchor=\"start\" x=\"651.08\" y=\"-6.2\" font-family=\"Helvetica,sans-Serif\" font-size=\"14.00\">value = [60, 4]</text>\n",
       "</g>\n",
       "<!-- 13&#45;&gt;15 -->\n",
       "<g id=\"edge15\" class=\"edge\">\n",
       "<title>13&#45;&gt;15</title>\n",
       "<path fill=\"none\" stroke=\"black\" d=\"M649.99,-88.59C656.05,-80.22 662.56,-71.22 668.66,-62.79\"/>\n",
       "<polygon fill=\"black\" stroke=\"black\" points=\"672.06,-65.07 675.08,-54.91 666.39,-60.96 672.06,-65.07\"/>\n",
       "</g>\n",
       "<!-- 19 -->\n",
       "<g id=\"node20\" class=\"node\">\n",
       "<title>19</title>\n",
       "<path fill=\"#f6d5bd\" stroke=\"black\" d=\"M964.33,-357.5C964.33,-357.5 879.33,-357.5 879.33,-357.5 873.33,-357.5 867.33,-351.5 867.33,-345.5 867.33,-345.5 867.33,-316.5 867.33,-316.5 867.33,-310.5 873.33,-304.5 879.33,-304.5 879.33,-304.5 964.33,-304.5 964.33,-304.5 970.33,-304.5 976.33,-310.5 976.33,-316.5 976.33,-316.5 976.33,-345.5 976.33,-345.5 976.33,-351.5 970.33,-357.5 964.33,-357.5\"/>\n",
       "<text text-anchor=\"start\" x=\"890.33\" y=\"-340.2\" font-family=\"Helvetica,sans-Serif\" font-size=\"14.00\">gini = 0.48</text>\n",
       "<text text-anchor=\"start\" x=\"880.95\" y=\"-325.2\" font-family=\"Helvetica,sans-Serif\" font-size=\"14.00\">samples = 60</text>\n",
       "<text text-anchor=\"start\" x=\"875.33\" y=\"-310.2\" font-family=\"Helvetica,sans-Serif\" font-size=\"14.00\">value = [36, 24]</text>\n",
       "</g>\n",
       "<!-- 18&#45;&gt;19 -->\n",
       "<g id=\"edge19\" class=\"edge\">\n",
       "<title>18&#45;&gt;19</title>\n",
       "<path fill=\"none\" stroke=\"black\" d=\"M921.83,-400.6C921.83,-390.36 921.83,-379.04 921.83,-368.6\"/>\n",
       "<polygon fill=\"black\" stroke=\"black\" points=\"925.33,-368.71 921.83,-358.71 918.33,-368.71 925.33,-368.71\"/>\n",
       "</g>\n",
       "<!-- 20 -->\n",
       "<g id=\"node21\" class=\"node\">\n",
       "<title>20</title>\n",
       "<path fill=\"#eda877\" stroke=\"black\" d=\"M1109.33,-357.5C1109.33,-357.5 1024.33,-357.5 1024.33,-357.5 1018.33,-357.5 1012.33,-351.5 1012.33,-345.5 1012.33,-345.5 1012.33,-316.5 1012.33,-316.5 1012.33,-310.5 1018.33,-304.5 1024.33,-304.5 1024.33,-304.5 1109.33,-304.5 1109.33,-304.5 1115.33,-304.5 1121.33,-310.5 1121.33,-316.5 1121.33,-316.5 1121.33,-345.5 1121.33,-345.5 1121.33,-351.5 1115.33,-357.5 1109.33,-357.5\"/>\n",
       "<text text-anchor=\"start\" x=\"1035.33\" y=\"-340.2\" font-family=\"Helvetica,sans-Serif\" font-size=\"14.00\">gini = 0.36</text>\n",
       "<text text-anchor=\"start\" x=\"1025.95\" y=\"-325.2\" font-family=\"Helvetica,sans-Serif\" font-size=\"14.00\">samples = 59</text>\n",
       "<text text-anchor=\"start\" x=\"1020.33\" y=\"-310.2\" font-family=\"Helvetica,sans-Serif\" font-size=\"14.00\">value = [45, 14]</text>\n",
       "</g>\n",
       "<!-- 18&#45;&gt;20 -->\n",
       "<g id=\"edge20\" class=\"edge\">\n",
       "<title>18&#45;&gt;20</title>\n",
       "<path fill=\"none\" stroke=\"black\" d=\"M969.31,-400.6C986.03,-388.84 1004.78,-375.65 1021.34,-364\"/>\n",
       "<polygon fill=\"black\" stroke=\"black\" points=\"1023.12,-366.32 1029.28,-357.71 1019.09,-360.6 1023.12,-366.32\"/>\n",
       "</g>\n",
       "</g>\n",
       "</svg>\n"
      ],
      "text/plain": [
       "<graphviz.sources.Source at 0x2a043c5d0>"
      ]
     },
     "execution_count": 37,
     "metadata": {},
     "output_type": "execute_result"
    }
   ],
   "source": [
    "m = DecisionTreeClassifier(min_samples_leaf=50)\n",
    "m.fit(_train_xs, _train_y)\n",
    "draw_tree(m, _train_xs, size=25)"
   ]
  },
  {
   "cell_type": "code",
   "execution_count": 38,
   "metadata": {},
   "outputs": [
    {
     "data": {
      "text/plain": [
       "0.18385650224215247"
      ]
     },
     "execution_count": 38,
     "metadata": {},
     "output_type": "execute_result"
    }
   ],
   "source": [
    "mean_absolute_error(_val_y, m.predict(_val_xs))"
   ]
  },
  {
   "cell_type": "markdown",
   "metadata": {},
   "source": [
    "We don't have loads of data, so breaking down the tree into more fine-grained choices will only help so much.\n",
    "\n",
    "Instead, we'll create many trees (each with a random sample of the data), and then take the average.\n",
    "This is basically a random forest!"
   ]
  },
  {
   "cell_type": "code",
   "execution_count": 39,
   "metadata": {},
   "outputs": [],
   "source": [
    "def get_tree(proportion=0.75):\n",
    "    row_count = len(_train_y)\n",
    "    row_indices = np.random.choice(row_count, int(row_count*proportion))\n",
    "    return DecisionTreeClassifier(min_samples_leaf=5).fit(_train_xs.iloc[row_indices], _train_y.iloc[row_indices])"
   ]
  },
  {
   "cell_type": "code",
   "execution_count": 40,
   "metadata": {},
   "outputs": [],
   "source": [
    "trees = [get_tree() for _ in range(100)]"
   ]
  },
  {
   "cell_type": "code",
   "execution_count": 41,
   "metadata": {},
   "outputs": [
    {
     "data": {
      "text/plain": [
       "0.2272645739910314"
      ]
     },
     "execution_count": 41,
     "metadata": {},
     "output_type": "execute_result"
    }
   ],
   "source": [
    "all_probs = [tree.predict(_val_xs) for tree in trees]\n",
    "avg_probs = np.stack(all_probs).mean(0)\n",
    "\n",
    "mean_absolute_error(_val_y, avg_probs)"
   ]
  },
  {
   "cell_type": "markdown",
   "metadata": {},
   "source": [
    "Random forests do one extra thing, which is that they take a subset of the columns as well, to help with randomness."
   ]
  },
  {
   "cell_type": "code",
   "execution_count": 42,
   "metadata": {},
   "outputs": [
    {
     "data": {
      "text/plain": [
       "0.18834080717488788"
      ]
     },
     "execution_count": 42,
     "metadata": {},
     "output_type": "execute_result"
    }
   ],
   "source": [
    "from sklearn.ensemble import RandomForestClassifier\n",
    "\n",
    "rf = RandomForestClassifier(100, min_samples_leaf=5)\n",
    "rf.fit(_train_xs, _train_y)\n",
    "mean_absolute_error(_val_y, rf.predict(_val_xs))"
   ]
  },
  {
   "cell_type": "markdown",
   "metadata": {},
   "source": [
    "Using random forests, you can create something called a \"feature importance plot\" which is a summary of how much each column decreased the Gini coefficient by. Really useful to find out what the most dominant effects are!"
   ]
  },
  {
   "cell_type": "code",
   "execution_count": 43,
   "metadata": {},
   "outputs": [
    {
     "data": {
      "text/plain": [
       "<Axes: ylabel='cols'>"
      ]
     },
     "execution_count": 43,
     "metadata": {},
     "output_type": "execute_result"
    },
    {
     "data": {
      "image/png": "[encoded data removed]",
      "text/plain": [
       "<Figure size 640x480 with 1 Axes>"
      ]
     },
     "metadata": {},
     "output_type": "display_data"
    }
   ],
   "source": [
    "pd.DataFrame({'cols': _train_xs.columns, 'imp': m.feature_importances_}).plot('cols', 'imp', 'barh')"
   ]
  },
  {
   "cell_type": "markdown",
   "metadata": {},
   "source": [
    "There's also Out-Of-Bag error: the error the each tree gives on the data it wasn't trained on. For small datasets, you can get away with not having a validation set using this"
   ]
  },
  {
   "cell_type": "markdown",
   "metadata": {},
   "source": [
    "We can also think about the standard deviation of the outputs to give confidence to our predictions:"
   ]
  },
  {
   "cell_type": "code",
   "execution_count": 44,
   "metadata": {},
   "outputs": [
    {
     "name": "stderr",
     "output_type": "stream",
     "text": [
      "/Users/kmccarro/miniconda3/envs/fast_ai/lib/python3.11/site-packages/sklearn/base.py:457: UserWarning: X has feature names, but DecisionTreeClassifier was fitted without feature names\n",
      "  warnings.warn(\n",
      "/Users/kmccarro/miniconda3/envs/fast_ai/lib/python3.11/site-packages/sklearn/base.py:457: UserWarning: X has feature names, but DecisionTreeClassifier was fitted without feature names\n",
      "  warnings.warn(\n",
      "/Users/kmccarro/miniconda3/envs/fast_ai/lib/python3.11/site-packages/sklearn/base.py:457: UserWarning: X has feature names, but DecisionTreeClassifier was fitted without feature names\n",
      "  warnings.warn(\n",
      "/Users/kmccarro/miniconda3/envs/fast_ai/lib/python3.11/site-packages/sklearn/base.py:457: UserWarning: X has feature names, but DecisionTreeClassifier was fitted without feature names\n",
      "  warnings.warn(\n",
      "/Users/kmccarro/miniconda3/envs/fast_ai/lib/python3.11/site-packages/sklearn/base.py:457: UserWarning: X has feature names, but DecisionTreeClassifier was fitted without feature names\n",
      "  warnings.warn(\n",
      "/Users/kmccarro/miniconda3/envs/fast_ai/lib/python3.11/site-packages/sklearn/base.py:457: UserWarning: X has feature names, but DecisionTreeClassifier was fitted without feature names\n",
      "  warnings.warn(\n",
      "/Users/kmccarro/miniconda3/envs/fast_ai/lib/python3.11/site-packages/sklearn/base.py:457: UserWarning: X has feature names, but DecisionTreeClassifier was fitted without feature names\n",
      "  warnings.warn(\n",
      "/Users/kmccarro/miniconda3/envs/fast_ai/lib/python3.11/site-packages/sklearn/base.py:457: UserWarning: X has feature names, but DecisionTreeClassifier was fitted without feature names\n",
      "  warnings.warn(\n",
      "/Users/kmccarro/miniconda3/envs/fast_ai/lib/python3.11/site-packages/sklearn/base.py:457: UserWarning: X has feature names, but DecisionTreeClassifier was fitted without feature names\n",
      "  warnings.warn(\n",
      "/Users/kmccarro/miniconda3/envs/fast_ai/lib/python3.11/site-packages/sklearn/base.py:457: UserWarning: X has feature names, but DecisionTreeClassifier was fitted without feature names\n",
      "  warnings.warn(\n",
      "/Users/kmccarro/miniconda3/envs/fast_ai/lib/python3.11/site-packages/sklearn/base.py:457: UserWarning: X has feature names, but DecisionTreeClassifier was fitted without feature names\n",
      "  warnings.warn(\n",
      "/Users/kmccarro/miniconda3/envs/fast_ai/lib/python3.11/site-packages/sklearn/base.py:457: UserWarning: X has feature names, but DecisionTreeClassifier was fitted without feature names\n",
      "  warnings.warn(\n",
      "/Users/kmccarro/miniconda3/envs/fast_ai/lib/python3.11/site-packages/sklearn/base.py:457: UserWarning: X has feature names, but DecisionTreeClassifier was fitted without feature names\n",
      "  warnings.warn(\n",
      "/Users/kmccarro/miniconda3/envs/fast_ai/lib/python3.11/site-packages/sklearn/base.py:457: UserWarning: X has feature names, but DecisionTreeClassifier was fitted without feature names\n",
      "  warnings.warn(\n",
      "/Users/kmccarro/miniconda3/envs/fast_ai/lib/python3.11/site-packages/sklearn/base.py:457: UserWarning: X has feature names, but DecisionTreeClassifier was fitted without feature names\n",
      "  warnings.warn(\n",
      "/Users/kmccarro/miniconda3/envs/fast_ai/lib/python3.11/site-packages/sklearn/base.py:457: UserWarning: X has feature names, but DecisionTreeClassifier was fitted without feature names\n",
      "  warnings.warn(\n",
      "/Users/kmccarro/miniconda3/envs/fast_ai/lib/python3.11/site-packages/sklearn/base.py:457: UserWarning: X has feature names, but DecisionTreeClassifier was fitted without feature names\n",
      "  warnings.warn(\n",
      "/Users/kmccarro/miniconda3/envs/fast_ai/lib/python3.11/site-packages/sklearn/base.py:457: UserWarning: X has feature names, but DecisionTreeClassifier was fitted without feature names\n",
      "  warnings.warn(\n",
      "/Users/kmccarro/miniconda3/envs/fast_ai/lib/python3.11/site-packages/sklearn/base.py:457: UserWarning: X has feature names, but DecisionTreeClassifier was fitted without feature names\n",
      "  warnings.warn(\n",
      "/Users/kmccarro/miniconda3/envs/fast_ai/lib/python3.11/site-packages/sklearn/base.py:457: UserWarning: X has feature names, but DecisionTreeClassifier was fitted without feature names\n",
      "  warnings.warn(\n",
      "/Users/kmccarro/miniconda3/envs/fast_ai/lib/python3.11/site-packages/sklearn/base.py:457: UserWarning: X has feature names, but DecisionTreeClassifier was fitted without feature names\n",
      "  warnings.warn(\n",
      "/Users/kmccarro/miniconda3/envs/fast_ai/lib/python3.11/site-packages/sklearn/base.py:457: UserWarning: X has feature names, but DecisionTreeClassifier was fitted without feature names\n",
      "  warnings.warn(\n",
      "/Users/kmccarro/miniconda3/envs/fast_ai/lib/python3.11/site-packages/sklearn/base.py:457: UserWarning: X has feature names, but DecisionTreeClassifier was fitted without feature names\n",
      "  warnings.warn(\n",
      "/Users/kmccarro/miniconda3/envs/fast_ai/lib/python3.11/site-packages/sklearn/base.py:457: UserWarning: X has feature names, but DecisionTreeClassifier was fitted without feature names\n",
      "  warnings.warn(\n",
      "/Users/kmccarro/miniconda3/envs/fast_ai/lib/python3.11/site-packages/sklearn/base.py:457: UserWarning: X has feature names, but DecisionTreeClassifier was fitted without feature names\n",
      "  warnings.warn(\n",
      "/Users/kmccarro/miniconda3/envs/fast_ai/lib/python3.11/site-packages/sklearn/base.py:457: UserWarning: X has feature names, but DecisionTreeClassifier was fitted without feature names\n",
      "  warnings.warn(\n",
      "/Users/kmccarro/miniconda3/envs/fast_ai/lib/python3.11/site-packages/sklearn/base.py:457: UserWarning: X has feature names, but DecisionTreeClassifier was fitted without feature names\n",
      "  warnings.warn(\n",
      "/Users/kmccarro/miniconda3/envs/fast_ai/lib/python3.11/site-packages/sklearn/base.py:457: UserWarning: X has feature names, but DecisionTreeClassifier was fitted without feature names\n",
      "  warnings.warn(\n",
      "/Users/kmccarro/miniconda3/envs/fast_ai/lib/python3.11/site-packages/sklearn/base.py:457: UserWarning: X has feature names, but DecisionTreeClassifier was fitted without feature names\n",
      "  warnings.warn(\n",
      "/Users/kmccarro/miniconda3/envs/fast_ai/lib/python3.11/site-packages/sklearn/base.py:457: UserWarning: X has feature names, but DecisionTreeClassifier was fitted without feature names\n",
      "  warnings.warn(\n",
      "/Users/kmccarro/miniconda3/envs/fast_ai/lib/python3.11/site-packages/sklearn/base.py:457: UserWarning: X has feature names, but DecisionTreeClassifier was fitted without feature names\n",
      "  warnings.warn(\n",
      "/Users/kmccarro/miniconda3/envs/fast_ai/lib/python3.11/site-packages/sklearn/base.py:457: UserWarning: X has feature names, but DecisionTreeClassifier was fitted without feature names\n",
      "  warnings.warn(\n",
      "/Users/kmccarro/miniconda3/envs/fast_ai/lib/python3.11/site-packages/sklearn/base.py:457: UserWarning: X has feature names, but DecisionTreeClassifier was fitted without feature names\n",
      "  warnings.warn(\n",
      "/Users/kmccarro/miniconda3/envs/fast_ai/lib/python3.11/site-packages/sklearn/base.py:457: UserWarning: X has feature names, but DecisionTreeClassifier was fitted without feature names\n",
      "  warnings.warn(\n",
      "/Users/kmccarro/miniconda3/envs/fast_ai/lib/python3.11/site-packages/sklearn/base.py:457: UserWarning: X has feature names, but DecisionTreeClassifier was fitted without feature names\n",
      "  warnings.warn(\n",
      "/Users/kmccarro/miniconda3/envs/fast_ai/lib/python3.11/site-packages/sklearn/base.py:457: UserWarning: X has feature names, but DecisionTreeClassifier was fitted without feature names\n",
      "  warnings.warn(\n",
      "/Users/kmccarro/miniconda3/envs/fast_ai/lib/python3.11/site-packages/sklearn/base.py:457: UserWarning: X has feature names, but DecisionTreeClassifier was fitted without feature names\n",
      "  warnings.warn(\n",
      "/Users/kmccarro/miniconda3/envs/fast_ai/lib/python3.11/site-packages/sklearn/base.py:457: UserWarning: X has feature names, but DecisionTreeClassifier was fitted without feature names\n",
      "  warnings.warn(\n",
      "/Users/kmccarro/miniconda3/envs/fast_ai/lib/python3.11/site-packages/sklearn/base.py:457: UserWarning: X has feature names, but DecisionTreeClassifier was fitted without feature names\n",
      "  warnings.warn(\n",
      "/Users/kmccarro/miniconda3/envs/fast_ai/lib/python3.11/site-packages/sklearn/base.py:457: UserWarning: X has feature names, but DecisionTreeClassifier was fitted without feature names\n",
      "  warnings.warn(\n",
      "/Users/kmccarro/miniconda3/envs/fast_ai/lib/python3.11/site-packages/sklearn/base.py:457: UserWarning: X has feature names, but DecisionTreeClassifier was fitted without feature names\n",
      "  warnings.warn(\n",
      "/Users/kmccarro/miniconda3/envs/fast_ai/lib/python3.11/site-packages/sklearn/base.py:457: UserWarning: X has feature names, but DecisionTreeClassifier was fitted without feature names\n",
      "  warnings.warn(\n",
      "/Users/kmccarro/miniconda3/envs/fast_ai/lib/python3.11/site-packages/sklearn/base.py:457: UserWarning: X has feature names, but DecisionTreeClassifier was fitted without feature names\n",
      "  warnings.warn(\n",
      "/Users/kmccarro/miniconda3/envs/fast_ai/lib/python3.11/site-packages/sklearn/base.py:457: UserWarning: X has feature names, but DecisionTreeClassifier was fitted without feature names\n",
      "  warnings.warn(\n",
      "/Users/kmccarro/miniconda3/envs/fast_ai/lib/python3.11/site-packages/sklearn/base.py:457: UserWarning: X has feature names, but DecisionTreeClassifier was fitted without feature names\n",
      "  warnings.warn(\n",
      "/Users/kmccarro/miniconda3/envs/fast_ai/lib/python3.11/site-packages/sklearn/base.py:457: UserWarning: X has feature names, but DecisionTreeClassifier was fitted without feature names\n",
      "  warnings.warn(\n",
      "/Users/kmccarro/miniconda3/envs/fast_ai/lib/python3.11/site-packages/sklearn/base.py:457: UserWarning: X has feature names, but DecisionTreeClassifier was fitted without feature names\n",
      "  warnings.warn(\n",
      "/Users/kmccarro/miniconda3/envs/fast_ai/lib/python3.11/site-packages/sklearn/base.py:457: UserWarning: X has feature names, but DecisionTreeClassifier was fitted without feature names\n",
      "  warnings.warn(\n",
      "/Users/kmccarro/miniconda3/envs/fast_ai/lib/python3.11/site-packages/sklearn/base.py:457: UserWarning: X has feature names, but DecisionTreeClassifier was fitted without feature names\n",
      "  warnings.warn(\n",
      "/Users/kmccarro/miniconda3/envs/fast_ai/lib/python3.11/site-packages/sklearn/base.py:457: UserWarning: X has feature names, but DecisionTreeClassifier was fitted without feature names\n",
      "  warnings.warn(\n",
      "/Users/kmccarro/miniconda3/envs/fast_ai/lib/python3.11/site-packages/sklearn/base.py:457: UserWarning: X has feature names, but DecisionTreeClassifier was fitted without feature names\n",
      "  warnings.warn(\n",
      "/Users/kmccarro/miniconda3/envs/fast_ai/lib/python3.11/site-packages/sklearn/base.py:457: UserWarning: X has feature names, but DecisionTreeClassifier was fitted without feature names\n",
      "  warnings.warn(\n",
      "/Users/kmccarro/miniconda3/envs/fast_ai/lib/python3.11/site-packages/sklearn/base.py:457: UserWarning: X has feature names, but DecisionTreeClassifier was fitted without feature names\n",
      "  warnings.warn(\n",
      "/Users/kmccarro/miniconda3/envs/fast_ai/lib/python3.11/site-packages/sklearn/base.py:457: UserWarning: X has feature names, but DecisionTreeClassifier was fitted without feature names\n",
      "  warnings.warn(\n",
      "/Users/kmccarro/miniconda3/envs/fast_ai/lib/python3.11/site-packages/sklearn/base.py:457: UserWarning: X has feature names, but DecisionTreeClassifier was fitted without feature names\n",
      "  warnings.warn(\n",
      "/Users/kmccarro/miniconda3/envs/fast_ai/lib/python3.11/site-packages/sklearn/base.py:457: UserWarning: X has feature names, but DecisionTreeClassifier was fitted without feature names\n",
      "  warnings.warn(\n",
      "/Users/kmccarro/miniconda3/envs/fast_ai/lib/python3.11/site-packages/sklearn/base.py:457: UserWarning: X has feature names, but DecisionTreeClassifier was fitted without feature names\n",
      "  warnings.warn(\n",
      "/Users/kmccarro/miniconda3/envs/fast_ai/lib/python3.11/site-packages/sklearn/base.py:457: UserWarning: X has feature names, but DecisionTreeClassifier was fitted without feature names\n",
      "  warnings.warn(\n",
      "/Users/kmccarro/miniconda3/envs/fast_ai/lib/python3.11/site-packages/sklearn/base.py:457: UserWarning: X has feature names, but DecisionTreeClassifier was fitted without feature names\n",
      "  warnings.warn(\n",
      "/Users/kmccarro/miniconda3/envs/fast_ai/lib/python3.11/site-packages/sklearn/base.py:457: UserWarning: X has feature names, but DecisionTreeClassifier was fitted without feature names\n",
      "  warnings.warn(\n",
      "/Users/kmccarro/miniconda3/envs/fast_ai/lib/python3.11/site-packages/sklearn/base.py:457: UserWarning: X has feature names, but DecisionTreeClassifier was fitted without feature names\n",
      "  warnings.warn(\n",
      "/Users/kmccarro/miniconda3/envs/fast_ai/lib/python3.11/site-packages/sklearn/base.py:457: UserWarning: X has feature names, but DecisionTreeClassifier was fitted without feature names\n",
      "  warnings.warn(\n",
      "/Users/kmccarro/miniconda3/envs/fast_ai/lib/python3.11/site-packages/sklearn/base.py:457: UserWarning: X has feature names, but DecisionTreeClassifier was fitted without feature names\n",
      "  warnings.warn(\n",
      "/Users/kmccarro/miniconda3/envs/fast_ai/lib/python3.11/site-packages/sklearn/base.py:457: UserWarning: X has feature names, but DecisionTreeClassifier was fitted without feature names\n",
      "  warnings.warn(\n",
      "/Users/kmccarro/miniconda3/envs/fast_ai/lib/python3.11/site-packages/sklearn/base.py:457: UserWarning: X has feature names, but DecisionTreeClassifier was fitted without feature names\n",
      "  warnings.warn(\n",
      "/Users/kmccarro/miniconda3/envs/fast_ai/lib/python3.11/site-packages/sklearn/base.py:457: UserWarning: X has feature names, but DecisionTreeClassifier was fitted without feature names\n",
      "  warnings.warn(\n",
      "/Users/kmccarro/miniconda3/envs/fast_ai/lib/python3.11/site-packages/sklearn/base.py:457: UserWarning: X has feature names, but DecisionTreeClassifier was fitted without feature names\n",
      "  warnings.warn(\n",
      "/Users/kmccarro/miniconda3/envs/fast_ai/lib/python3.11/site-packages/sklearn/base.py:457: UserWarning: X has feature names, but DecisionTreeClassifier was fitted without feature names\n",
      "  warnings.warn(\n",
      "/Users/kmccarro/miniconda3/envs/fast_ai/lib/python3.11/site-packages/sklearn/base.py:457: UserWarning: X has feature names, but DecisionTreeClassifier was fitted without feature names\n",
      "  warnings.warn(\n",
      "/Users/kmccarro/miniconda3/envs/fast_ai/lib/python3.11/site-packages/sklearn/base.py:457: UserWarning: X has feature names, but DecisionTreeClassifier was fitted without feature names\n",
      "  warnings.warn(\n",
      "/Users/kmccarro/miniconda3/envs/fast_ai/lib/python3.11/site-packages/sklearn/base.py:457: UserWarning: X has feature names, but DecisionTreeClassifier was fitted without feature names\n",
      "  warnings.warn(\n",
      "/Users/kmccarro/miniconda3/envs/fast_ai/lib/python3.11/site-packages/sklearn/base.py:457: UserWarning: X has feature names, but DecisionTreeClassifier was fitted without feature names\n",
      "  warnings.warn(\n",
      "/Users/kmccarro/miniconda3/envs/fast_ai/lib/python3.11/site-packages/sklearn/base.py:457: UserWarning: X has feature names, but DecisionTreeClassifier was fitted without feature names\n",
      "  warnings.warn(\n",
      "/Users/kmccarro/miniconda3/envs/fast_ai/lib/python3.11/site-packages/sklearn/base.py:457: UserWarning: X has feature names, but DecisionTreeClassifier was fitted without feature names\n",
      "  warnings.warn(\n",
      "/Users/kmccarro/miniconda3/envs/fast_ai/lib/python3.11/site-packages/sklearn/base.py:457: UserWarning: X has feature names, but DecisionTreeClassifier was fitted without feature names\n",
      "  warnings.warn(\n",
      "/Users/kmccarro/miniconda3/envs/fast_ai/lib/python3.11/site-packages/sklearn/base.py:457: UserWarning: X has feature names, but DecisionTreeClassifier was fitted without feature names\n",
      "  warnings.warn(\n",
      "/Users/kmccarro/miniconda3/envs/fast_ai/lib/python3.11/site-packages/sklearn/base.py:457: UserWarning: X has feature names, but DecisionTreeClassifier was fitted without feature names\n",
      "  warnings.warn(\n",
      "/Users/kmccarro/miniconda3/envs/fast_ai/lib/python3.11/site-packages/sklearn/base.py:457: UserWarning: X has feature names, but DecisionTreeClassifier was fitted without feature names\n",
      "  warnings.warn(\n",
      "/Users/kmccarro/miniconda3/envs/fast_ai/lib/python3.11/site-packages/sklearn/base.py:457: UserWarning: X has feature names, but DecisionTreeClassifier was fitted without feature names\n",
      "  warnings.warn(\n",
      "/Users/kmccarro/miniconda3/envs/fast_ai/lib/python3.11/site-packages/sklearn/base.py:457: UserWarning: X has feature names, but DecisionTreeClassifier was fitted without feature names\n",
      "  warnings.warn(\n",
      "/Users/kmccarro/miniconda3/envs/fast_ai/lib/python3.11/site-packages/sklearn/base.py:457: UserWarning: X has feature names, but DecisionTreeClassifier was fitted without feature names\n",
      "  warnings.warn(\n",
      "/Users/kmccarro/miniconda3/envs/fast_ai/lib/python3.11/site-packages/sklearn/base.py:457: UserWarning: X has feature names, but DecisionTreeClassifier was fitted without feature names\n",
      "  warnings.warn(\n",
      "/Users/kmccarro/miniconda3/envs/fast_ai/lib/python3.11/site-packages/sklearn/base.py:457: UserWarning: X has feature names, but DecisionTreeClassifier was fitted without feature names\n",
      "  warnings.warn(\n",
      "/Users/kmccarro/miniconda3/envs/fast_ai/lib/python3.11/site-packages/sklearn/base.py:457: UserWarning: X has feature names, but DecisionTreeClassifier was fitted without feature names\n",
      "  warnings.warn(\n",
      "/Users/kmccarro/miniconda3/envs/fast_ai/lib/python3.11/site-packages/sklearn/base.py:457: UserWarning: X has feature names, but DecisionTreeClassifier was fitted without feature names\n",
      "  warnings.warn(\n",
      "/Users/kmccarro/miniconda3/envs/fast_ai/lib/python3.11/site-packages/sklearn/base.py:457: UserWarning: X has feature names, but DecisionTreeClassifier was fitted without feature names\n",
      "  warnings.warn(\n",
      "/Users/kmccarro/miniconda3/envs/fast_ai/lib/python3.11/site-packages/sklearn/base.py:457: UserWarning: X has feature names, but DecisionTreeClassifier was fitted without feature names\n",
      "  warnings.warn(\n",
      "/Users/kmccarro/miniconda3/envs/fast_ai/lib/python3.11/site-packages/sklearn/base.py:457: UserWarning: X has feature names, but DecisionTreeClassifier was fitted without feature names\n",
      "  warnings.warn(\n",
      "/Users/kmccarro/miniconda3/envs/fast_ai/lib/python3.11/site-packages/sklearn/base.py:457: UserWarning: X has feature names, but DecisionTreeClassifier was fitted without feature names\n",
      "  warnings.warn(\n",
      "/Users/kmccarro/miniconda3/envs/fast_ai/lib/python3.11/site-packages/sklearn/base.py:457: UserWarning: X has feature names, but DecisionTreeClassifier was fitted without feature names\n",
      "  warnings.warn(\n",
      "/Users/kmccarro/miniconda3/envs/fast_ai/lib/python3.11/site-packages/sklearn/base.py:457: UserWarning: X has feature names, but DecisionTreeClassifier was fitted without feature names\n",
      "  warnings.warn(\n",
      "/Users/kmccarro/miniconda3/envs/fast_ai/lib/python3.11/site-packages/sklearn/base.py:457: UserWarning: X has feature names, but DecisionTreeClassifier was fitted without feature names\n",
      "  warnings.warn(\n",
      "/Users/kmccarro/miniconda3/envs/fast_ai/lib/python3.11/site-packages/sklearn/base.py:457: UserWarning: X has feature names, but DecisionTreeClassifier was fitted without feature names\n",
      "  warnings.warn(\n",
      "/Users/kmccarro/miniconda3/envs/fast_ai/lib/python3.11/site-packages/sklearn/base.py:457: UserWarning: X has feature names, but DecisionTreeClassifier was fitted without feature names\n",
      "  warnings.warn(\n",
      "/Users/kmccarro/miniconda3/envs/fast_ai/lib/python3.11/site-packages/sklearn/base.py:457: UserWarning: X has feature names, but DecisionTreeClassifier was fitted without feature names\n",
      "  warnings.warn(\n",
      "/Users/kmccarro/miniconda3/envs/fast_ai/lib/python3.11/site-packages/sklearn/base.py:457: UserWarning: X has feature names, but DecisionTreeClassifier was fitted without feature names\n",
      "  warnings.warn(\n",
      "/Users/kmccarro/miniconda3/envs/fast_ai/lib/python3.11/site-packages/sklearn/base.py:457: UserWarning: X has feature names, but DecisionTreeClassifier was fitted without feature names\n",
      "  warnings.warn(\n",
      "/Users/kmccarro/miniconda3/envs/fast_ai/lib/python3.11/site-packages/sklearn/base.py:457: UserWarning: X has feature names, but DecisionTreeClassifier was fitted without feature names\n",
      "  warnings.warn(\n",
      "/Users/kmccarro/miniconda3/envs/fast_ai/lib/python3.11/site-packages/sklearn/base.py:457: UserWarning: X has feature names, but DecisionTreeClassifier was fitted without feature names\n",
      "  warnings.warn(\n",
      "/Users/kmccarro/miniconda3/envs/fast_ai/lib/python3.11/site-packages/sklearn/base.py:457: UserWarning: X has feature names, but DecisionTreeClassifier was fitted without feature names\n",
      "  warnings.warn(\n"
     ]
    },
    {
     "data": {
      "text/plain": [
       "(100, 223)"
      ]
     },
     "execution_count": 44,
     "metadata": {},
     "output_type": "execute_result"
    }
   ],
   "source": [
    "predictions = np.stack([tree.predict(_val_xs) for tree in rf.estimators_])\n",
    "predictions.shape"
   ]
  },
  {
   "cell_type": "code",
   "execution_count": 45,
   "metadata": {},
   "outputs": [
    {
     "data": {
      "text/plain": [
       "array([0.43863424, 0.21794495, 0.3       , 0.2712932 , 0.49959984])"
      ]
     },
     "execution_count": 45,
     "metadata": {},
     "output_type": "execute_result"
    }
   ],
   "source": [
    "predictions_std = predictions.std(0)\n",
    "predictions_std[:5]"
   ]
  },
  {
   "cell_type": "markdown",
   "metadata": {},
   "source": [
    "To consider how the dependent variable is affected by a particular column, you can consider using a partial dependence plot:"
   ]
  },
  {
   "cell_type": "code",
   "execution_count": 46,
   "metadata": {},
   "outputs": [
    {
     "data": {
      "text/plain": [
       "<sklearn.inspection._plot.partial_dependence.PartialDependenceDisplay at 0x2877c8a90>"
      ]
     },
     "execution_count": 46,
     "metadata": {},
     "output_type": "execute_result"
    },
    {
     "data": {
      "image/png": "[encoded data removed]",
      "text/plain": [
       "<Figure size 1200x400 with 3 Axes>"
      ]
     },
     "metadata": {},
     "output_type": "display_data"
    }
   ],
   "source": [
    "from sklearn.inspection import PartialDependenceDisplay\n",
    "\n",
    "figure, axes = plt.subplots(figsize=(12, 4))\n",
    "PartialDependenceDisplay.from_estimator(rf, _val_xs, ['Sex', 'Pclass'], grid_resolution=20, ax=axes)"
   ]
  },
  {
   "cell_type": "code",
   "execution_count": null,
   "metadata": {},
   "outputs": [],
   "source": []
  }
 ],
 "metadata": {
  "kernelspec": {
   "display_name": "fast_ai",
   "language": "python",
   "name": "python3"
  },
  "language_info": {
   "codemirror_mode": {
    "name": "ipython",
    "version": 3
   },
   "file_extension": ".py",
   "mimetype": "text/x-python",
   "name": "python",
   "nbconvert_exporter": "python",
   "pygments_lexer": "ipython3",
   "version": "3.11.4"
  },
  "orig_nbformat": 4
 },
 "nbformat": 4,
 "nbformat_minor": 2
}
